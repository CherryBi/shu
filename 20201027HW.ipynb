{
 "cells": [
  {
   "cell_type": "code",
   "execution_count": 1,
   "metadata": {},
   "outputs": [
    {
     "name": "stdout",
     "output_type": "stream",
     "text": [
      "learning python now!\n",
      "python is fun\n"
     ]
    }
   ],
   "source": [
    "#display two messages\n",
    "print('learning python now!')\n",
    "print('python is fun')"
   ]
  },
  {
   "cell_type": "code",
   "execution_count": 2,
   "metadata": {},
   "outputs": [
    {
     "ename": "IndentationError",
     "evalue": "unexpected indent (<ipython-input-2-dc08e6ac9b5e>, line 2)",
     "output_type": "error",
     "traceback": [
      "\u001b[1;36m  File \u001b[1;32m\"<ipython-input-2-dc08e6ac9b5e>\"\u001b[1;36m, line \u001b[1;32m2\u001b[0m\n\u001b[1;33m    print('learning python now!')\u001b[0m\n\u001b[1;37m    ^\u001b[0m\n\u001b[1;31mIndentationError\u001b[0m\u001b[1;31m:\u001b[0m unexpected indent\n"
     ]
    }
   ],
   "source": [
    "#display two messages\n",
    " print('learning python now!')\n",
    "print('python is fun')"
   ]
  },
  {
   "cell_type": "code",
   "execution_count": 3,
   "metadata": {},
   "outputs": [
    {
     "name": "stdout",
     "output_type": "stream",
     "text": [
      "learning python now!\n",
      "python is fun\n"
     ]
    }
   ],
   "source": [
    "#display two messages\n",
    "print('learning python now!');\n",
    "print('python is fun');"
   ]
  },
  {
   "cell_type": "code",
   "execution_count": 4,
   "metadata": {},
   "outputs": [
    {
     "ename": "SyntaxError",
     "evalue": "invalid syntax (<ipython-input-4-54f1bb84cfc2>, line 1)",
     "output_type": "error",
     "traceback": [
      "\u001b[1;36m  File \u001b[1;32m\"<ipython-input-4-54f1bb84cfc2>\"\u001b[1;36m, line \u001b[1;32m1\u001b[0m\n\u001b[1;33m    print(learning Python now!)\u001b[0m\n\u001b[1;37m                   ^\u001b[0m\n\u001b[1;31mSyntaxError\u001b[0m\u001b[1;31m:\u001b[0m invalid syntax\n"
     ]
    }
   ],
   "source": [
    "print(learning Python now!)"
   ]
  },
  {
   "cell_type": "code",
   "execution_count": 5,
   "metadata": {},
   "outputs": [
    {
     "ename": "ZeroDivisionError",
     "evalue": "division by zero",
     "output_type": "error",
     "traceback": [
      "\u001b[1;31m---------------------------------------------------------------------------\u001b[0m",
      "\u001b[1;31mZeroDivisionError\u001b[0m                         Traceback (most recent call last)",
      "\u001b[1;32m<ipython-input-5-2fc232d1511a>\u001b[0m in \u001b[0;36m<module>\u001b[1;34m\u001b[0m\n\u001b[1;32m----> 1\u001b[1;33m \u001b[0mprint\u001b[0m\u001b[1;33m(\u001b[0m\u001b[1;36m1\u001b[0m\u001b[1;33m/\u001b[0m\u001b[1;36m0\u001b[0m\u001b[1;33m)\u001b[0m\u001b[1;33m\u001b[0m\u001b[1;33m\u001b[0m\u001b[0m\n\u001b[0m",
      "\u001b[1;31mZeroDivisionError\u001b[0m: division by zero"
     ]
    }
   ],
   "source": [
    "print(1/0)"
   ]
  },
  {
   "cell_type": "code",
   "execution_count": 6,
   "metadata": {},
   "outputs": [
    {
     "name": "stdout",
     "output_type": "stream",
     "text": [
      "Fahrenheit 80 is Celsius degree\n",
      "12.444444444444443\n"
     ]
    }
   ],
   "source": [
    "#Convert Fahrenheit to Celsius\n",
    "print('Fahrenheit 80 is Celsius degree')\n",
    "print(5/9*80-32)"
   ]
  },
  {
   "cell_type": "code",
   "execution_count": 7,
   "metadata": {},
   "outputs": [
    {
     "name": "stdout",
     "output_type": "stream",
     "text": [
      "Fahrenheit 80 is Celsius degree\n",
      "26.666666666666668\n"
     ]
    }
   ],
   "source": [
    "#Convert Fahrenheit to Celsius\n",
    "print('Fahrenheit 80 is Celsius degree')\n",
    "print(5/9*(80-32))"
   ]
  },
  {
   "cell_type": "code",
   "execution_count": 16,
   "metadata": {},
   "outputs": [
    {
     "name": "stdout",
     "output_type": "stream",
     "text": [
      "mile 96 is kilometer\n",
      "153.60000000000002\n"
     ]
    }
   ],
   "source": [
    "#Convert miles to Kilometers\n",
    "print('mile 96 is kilometer')\n",
    "print(96*1.6)"
   ]
  },
  {
   "cell_type": "code",
   "execution_count": 32,
   "metadata": {},
   "outputs": [
    {
     "ename": "SyntaxError",
     "evalue": "EOL while scanning string literal (<ipython-input-32-1476ec8ba427>, line 1)",
     "output_type": "error",
     "traceback": [
      "\u001b[1;36m  File \u001b[1;32m\"<ipython-input-32-1476ec8ba427>\"\u001b[1;36m, line \u001b[1;32m1\u001b[0m\n\u001b[1;33m    print(\"Hello,Python')\u001b[0m\n\u001b[1;37m                         ^\u001b[0m\n\u001b[1;31mSyntaxError\u001b[0m\u001b[1;31m:\u001b[0m EOL while scanning string literal\n"
     ]
    }
   ],
   "source": [
    "print(\"Hello,Python')\n",
    "print(Hello,Python)\n",
    " print('Hello,Python!')"
   ]
  },
  {
   "cell_type": "code",
   "execution_count": 35,
   "metadata": {},
   "outputs": [
    {
     "ename": "IndentationError",
     "evalue": "unexpected indent (<ipython-input-35-a982bfe9c05c>, line 2)",
     "output_type": "error",
     "traceback": [
      "\u001b[1;36m  File \u001b[1;32m\"<ipython-input-35-a982bfe9c05c>\"\u001b[1;36m, line \u001b[1;32m2\u001b[0m\n\u001b[1;33m    print('Hello,Python')\u001b[0m\n\u001b[1;37m    ^\u001b[0m\n\u001b[1;31mIndentationError\u001b[0m\u001b[1;31m:\u001b[0m unexpected indent\n"
     ]
    }
   ],
   "source": [
    "PRINT(\"Hello,Python\")\n",
    " print('Hello,Python')\n",
    "  print('Hello,Python!');"
   ]
  },
  {
   "cell_type": "code",
   "execution_count": 43,
   "metadata": {},
   "outputs": [
    {
     "ename": "SyntaxError",
     "evalue": "invalid syntax (<ipython-input-43-e2a1a06e1e38>, line 1)",
     "output_type": "error",
     "traceback": [
      "\u001b[1;36m  File \u001b[1;32m\"<ipython-input-43-e2a1a06e1e38>\"\u001b[1;36m, line \u001b[1;32m1\u001b[0m\n\u001b[1;33m    @Convert Fahrenheit to ceisius\u001b[0m\n\u001b[1;37m             ^\u001b[0m\n\u001b[1;31mSyntaxError\u001b[0m\u001b[1;31m:\u001b[0m invalid syntax\n"
     ]
    }
   ],
   "source": [
    "@Convert Fahrenheit to ceisius\n",
    "print('Fahrenheit 212 is Celsius degree')\n",
    " print(5/9*212-32)"
   ]
  },
  {
   "cell_type": "code",
   "execution_count": 36,
   "metadata": {},
   "outputs": [
    {
     "ename": "SyntaxError",
     "evalue": "EOL while scanning string literal (<ipython-input-36-2934580aa161>, line 1)",
     "output_type": "error",
     "traceback": [
      "\u001b[1;36m  File \u001b[1;32m\"<ipython-input-36-2934580aa161>\"\u001b[1;36m, line \u001b[1;32m1\u001b[0m\n\u001b[1;33m    print('Learning Python now!\")\u001b[0m\n\u001b[1;37m                                 ^\u001b[0m\n\u001b[1;31mSyntaxError\u001b[0m\u001b[1;31m:\u001b[0m EOL while scanning string literal\n"
     ]
    }
   ],
   "source": [
    "print('Learning Python now!\")\n",
    "printf('Python is fun')\n",
    "write('Python is a good programming language')"
   ]
  },
  {
   "cell_type": "code",
   "execution_count": 42,
   "metadata": {},
   "outputs": [
    {
     "ename": "SyntaxError",
     "evalue": "EOL while scanning string literal (<ipython-input-42-714140563142>, line 1)",
     "output_type": "error",
     "traceback": [
      "\u001b[1;36m  File \u001b[1;32m\"<ipython-input-42-714140563142>\"\u001b[1;36m, line \u001b[1;32m1\u001b[0m\n\u001b[1;33m    \"\u001b[0m\n\u001b[1;37m     ^\u001b[0m\n\u001b[1;31mSyntaxError\u001b[0m\u001b[1;31m:\u001b[0m EOL while scanning string literal\n"
     ]
    }
   ],
   "source": [
    "\"\n",
    "我的第一個python程式\n",
    "\"\n",
    "printf('Python is fun!')\n",
    "println(Learning Python now!)"
   ]
  },
  {
   "cell_type": "code",
   "execution_count": 45,
   "metadata": {},
   "outputs": [
    {
     "name": "stdout",
     "output_type": "stream",
     "text": [
      "12345\n"
     ]
    }
   ],
   "source": [
    "print(12345)"
   ]
  },
  {
   "cell_type": "code",
   "execution_count": 46,
   "metadata": {},
   "outputs": [
    {
     "name": "stdout",
     "output_type": "stream",
     "text": [
      "123.456\n"
     ]
    }
   ],
   "source": [
    "print(123.456)"
   ]
  },
  {
   "cell_type": "code",
   "execution_count": 47,
   "metadata": {},
   "outputs": [
    {
     "name": "stdout",
     "output_type": "stream",
     "text": [
      "learning Python now!\n"
     ]
    }
   ],
   "source": [
    "print(\"learning Python now!\")"
   ]
  },
  {
   "cell_type": "code",
   "execution_count": 48,
   "metadata": {},
   "outputs": [
    {
     "name": "stdout",
     "output_type": "stream",
     "text": [
      "learning Python now!\n"
     ]
    }
   ],
   "source": [
    "print('learning Python now!')"
   ]
  },
  {
   "cell_type": "code",
   "execution_count": 51,
   "metadata": {},
   "outputs": [
    {
     "name": "stdout",
     "output_type": "stream",
     "text": [
      "Python is fun\n",
      "Let's go\n"
     ]
    }
   ],
   "source": [
    "print('Python is fun')\n",
    "print('Let's go')"
   ]
  },
  {
   "cell_type": "code",
   "execution_count": 52,
   "metadata": {},
   "outputs": [
    {
     "name": "stdout",
     "output_type": "stream",
     "text": [
      "Python is fun\n",
      "Let's go\n"
     ]
    }
   ],
   "source": [
    "print('Python is fun')\n",
    "print('Let\\'s go')"
   ]
  },
  {
   "cell_type": "code",
   "execution_count": 54,
   "metadata": {},
   "outputs": [
    {
     "name": "stdout",
     "output_type": "stream",
     "text": [
      "\\n is skip a line\n"
     ]
    }
   ],
   "source": [
    "print('\\\\n is skip a line')"
   ]
  },
  {
   "cell_type": "code",
   "execution_count": 55,
   "metadata": {},
   "outputs": [
    {
     "name": "stdout",
     "output_type": "stream",
     "text": [
      "Learning Python now!\n",
      "Python is fun\n"
     ]
    }
   ],
   "source": [
    "print('Learning Python now!\\nPython is fun')"
   ]
  },
  {
   "cell_type": "code",
   "execution_count": 57,
   "metadata": {},
   "outputs": [
    {
     "name": "stdout",
     "output_type": "stream",
     "text": [
      "Learning Python now!\n",
      "Python is fun\n"
     ]
    }
   ],
   "source": [
    "print('Learning Python now!')\n",
    "print('Python is fun')\n"
   ]
  },
  {
   "cell_type": "code",
   "execution_count": 59,
   "metadata": {},
   "outputs": [
    {
     "name": "stdout",
     "output_type": "stream",
     "text": [
      "｜\tHello,world｜\n"
     ]
    }
   ],
   "source": [
    "print(\"｜\\tHello,world｜\")"
   ]
  },
  {
   "cell_type": "code",
   "execution_count": 60,
   "metadata": {},
   "outputs": [
    {
     "name": "stdout",
     "output_type": "stream",
     "text": [
      "｜Hello,\tworld｜\n"
     ]
    }
   ],
   "source": [
    "print('｜Hello,\\tworld｜')"
   ]
  },
  {
   "cell_type": "code",
   "execution_count": 61,
   "metadata": {},
   "outputs": [
    {
     "name": "stdout",
     "output_type": "stream",
     "text": [
      "\\n is skip a line\n"
     ]
    }
   ],
   "source": [
    "print('\\\\n is skip a line')"
   ]
  },
  {
   "cell_type": "code",
   "execution_count": 62,
   "metadata": {},
   "outputs": [
    {
     "name": "stdout",
     "output_type": "stream",
     "text": [
      "\"Hello,everyone\"\n"
     ]
    }
   ],
   "source": [
    "print('\\\"Hello,everyone\\\"')"
   ]
  },
  {
   "cell_type": "code",
   "execution_count": 63,
   "metadata": {},
   "outputs": [
    {
     "name": "stdout",
     "output_type": "stream",
     "text": [
      "Radius= 12\n"
     ]
    }
   ],
   "source": [
    "print('Radius=',12)"
   ]
  },
  {
   "cell_type": "code",
   "execution_count": 64,
   "metadata": {},
   "outputs": [
    {
     "name": "stdout",
     "output_type": "stream",
     "text": [
      "Hello,\n",
      "world\n"
     ]
    }
   ],
   "source": [
    "print('Hello,')\n",
    "print('world')"
   ]
  },
  {
   "cell_type": "code",
   "execution_count": 66,
   "metadata": {},
   "outputs": [
    {
     "name": "stdout",
     "output_type": "stream",
     "text": [
      "Hello,world\n"
     ]
    }
   ],
   "source": [
    "print('Hello,',end = '')\n",
    "print('world')"
   ]
  },
  {
   "cell_type": "code",
   "execution_count": 67,
   "metadata": {},
   "outputs": [
    {
     "name": "stdout",
     "output_type": "stream",
     "text": [
      "Hello, world\n"
     ]
    }
   ],
   "source": [
    "print('Hello,','world')"
   ]
  },
  {
   "cell_type": "code",
   "execution_count": 68,
   "metadata": {},
   "outputs": [
    {
     "name": "stdout",
     "output_type": "stream",
     "text": [
      "Hello,***world\n"
     ]
    }
   ],
   "source": [
    "print('Hello,',end='***')\n",
    "print('world')"
   ]
  },
  {
   "cell_type": "code",
   "execution_count": 75,
   "metadata": {},
   "outputs": [
    {
     "name": "stdout",
     "output_type": "stream",
     "text": [
      "***Hello,world***\n",
      "Hello,Python\n",
      "excellent\n"
     ]
    }
   ],
   "source": [
    "print('***Hello,world',end='***')\n",
    "print('')\n",
    "print('Hello,Python')\n",
    "print('excellent')"
   ]
  },
  {
   "cell_type": "code",
   "execution_count": 76,
   "metadata": {},
   "outputs": [
    {
     "name": "stdout",
     "output_type": "stream",
     "text": [
      "***Hello,world***\n",
      "Hello,Python\n",
      "excellent\n"
     ]
    }
   ],
   "source": [
    "print('***Hello,world***')\n",
    "print('Hello,Python')\n",
    "print('excellent')"
   ]
  },
  {
   "cell_type": "code",
   "execution_count": 78,
   "metadata": {},
   "outputs": [
    {
     "name": "stdout",
     "output_type": "stream",
     "text": [
      "     100\n"
     ]
    }
   ],
   "source": [
    "print(format(100,'8d'))"
   ]
  },
  {
   "cell_type": "code",
   "execution_count": 79,
   "metadata": {},
   "outputs": [
    {
     "name": "stdout",
     "output_type": "stream",
     "text": [
      "100000\n"
     ]
    }
   ],
   "source": [
    "print(format(100000,'3d'))"
   ]
  },
  {
   "cell_type": "code",
   "execution_count": 80,
   "metadata": {},
   "outputs": [
    {
     "name": "stdout",
     "output_type": "stream",
     "text": [
      "      64\n",
      "     144\n",
      " 1100100\n"
     ]
    }
   ],
   "source": [
    "print(format(100,'8x'))\n",
    "print(format(100,'8o'))\n",
    "print(format(100,'8b'))\n"
   ]
  },
  {
   "cell_type": "code",
   "execution_count": 81,
   "metadata": {},
   "outputs": [
    {
     "name": "stdout",
     "output_type": "stream",
     "text": [
      "23.89%\n"
     ]
    }
   ],
   "source": [
    "print(format(0.2389,'6.2%'))"
   ]
  },
  {
   "cell_type": "code",
   "execution_count": 82,
   "metadata": {},
   "outputs": [
    {
     "name": "stdout",
     "output_type": "stream",
     "text": [
      "  123.46\n"
     ]
    }
   ],
   "source": [
    "print(format(123.456,'8.2f'))"
   ]
  },
  {
   "cell_type": "code",
   "execution_count": 83,
   "metadata": {},
   "outputs": [
    {
     "name": "stdout",
     "output_type": "stream",
     "text": [
      "Python is fun  \n"
     ]
    }
   ],
   "source": [
    "print(format('Python is fun','15s'))"
   ]
  },
  {
   "cell_type": "code",
   "execution_count": 84,
   "metadata": {},
   "outputs": [
    {
     "name": "stdout",
     "output_type": "stream",
     "text": [
      "  Python is fun\n"
     ]
    }
   ],
   "source": [
    "print(format('Python is fun','>15s'))\n"
   ]
  },
  {
   "cell_type": "code",
   "execution_count": 88,
   "metadata": {},
   "outputs": [
    {
     "name": "stdout",
     "output_type": "stream",
     "text": [
      "     12345\n",
      "12345     \n"
     ]
    }
   ],
   "source": [
    "print(format(12345,'10d'))\n",
    "print(format(12345,'<10d'))"
   ]
  },
  {
   "cell_type": "code",
   "execution_count": 90,
   "metadata": {},
   "outputs": [
    {
     "name": "stdout",
     "output_type": "stream",
     "text": [
      "   12345   \n"
     ]
    }
   ],
   "source": [
    "print(format(12345,'^11d'))"
   ]
  },
  {
   "cell_type": "code",
   "execution_count": 92,
   "metadata": {},
   "outputs": [
    {
     "name": "stdout",
     "output_type": "stream",
     "text": [
      "12345 12 1234567\n",
      "12 123 1234567\n",
      "123 1234567 12345\n"
     ]
    }
   ],
   "source": [
    "print(12345,12,1234567)\n",
    "print(12,123,1234567)\n",
    "print(123,1234567,12345)"
   ]
  },
  {
   "cell_type": "code",
   "execution_count": 94,
   "metadata": {},
   "outputs": [
    {
     "name": "stdout",
     "output_type": "stream",
     "text": [
      "     12345\n",
      "        12\n",
      "   1234567\n",
      "        12\n",
      "       123\n",
      "   1234567\n",
      "       123\n",
      "   1234567\n",
      "       123\n"
     ]
    }
   ],
   "source": [
    "print(format(12345,'10d'))\n",
    "print(format(12,'10d'))\n",
    "print(format(1234567,'10d'))\n",
    "\n",
    "print(format(12,'10d'))\n",
    "print(format(123,'10d'))\n",
    "print(format(1234567,'10d'))\n",
    "\n",
    "print(format(123,'10d'))\n",
    "print(format(1234567,'10d'))\n",
    "print(format(123,'10d'))"
   ]
  },
  {
   "cell_type": "code",
   "execution_count": 96,
   "metadata": {},
   "outputs": [
    {
     "name": "stdout",
     "output_type": "stream",
     "text": [
      "     12345        12   1234567\n",
      "        12       123   1234567\n",
      "       123   1234567       123\n"
     ]
    }
   ],
   "source": [
    "print(format(12345,'10d'),end='')\n",
    "print(format(12,'10d'),end='')\n",
    "print(format(1234567,'10d'))\n",
    "\n",
    "print(format(12,'10d'),end='')\n",
    "print(format(123,'10d'),end='')\n",
    "print(format(1234567,'10d'))\n",
    "\n",
    "print(format(123,'10d'),end='')\n",
    "print(format(1234567,'10d'),end='')\n",
    "print(format(123,'10d'))"
   ]
  },
  {
   "cell_type": "code",
   "execution_count": 97,
   "metadata": {},
   "outputs": [
    {
     "name": "stdout",
     "output_type": "stream",
     "text": [
      "     12345         12    1234567\n",
      "        12        123    1234567\n",
      "       123    1234567        123\n"
     ]
    }
   ],
   "source": [
    "print(format(12345,'10d'),format(12,'10d'),format(1234567,'10d'))\n",
    "print(format(12,'10d'),format(123,'10d'),format(1234567,'10d'))\n",
    "print(format(123,'10d'),format(1234567,'10d'),format(123,'10d'))"
   ]
  },
  {
   "cell_type": "code",
   "execution_count": 100,
   "metadata": {},
   "outputs": [
    {
     "name": "stdout",
     "output_type": "stream",
     "text": [
      "%格式指定器 %(項目)\n"
     ]
    }
   ],
   "source": [
    "print('%格式指定器','%(項目)')"
   ]
  },
  {
   "cell_type": "code",
   "execution_count": 102,
   "metadata": {},
   "outputs": [
    {
     "name": "stdout",
     "output_type": "stream",
     "text": [
      "     12345\n"
     ]
    }
   ],
   "source": [
    "print('%10d'%(12345))"
   ]
  },
  {
   "cell_type": "code",
   "execution_count": 103,
   "metadata": {},
   "outputs": [
    {
     "name": "stdout",
     "output_type": "stream",
     "text": [
      "｜     12345｜\n"
     ]
    }
   ],
   "source": [
    "print('｜%10d｜'%(12345))"
   ]
  },
  {
   "cell_type": "code",
   "execution_count": 104,
   "metadata": {},
   "outputs": [
    {
     "name": "stdout",
     "output_type": "stream",
     "text": [
      "｜12345｜\n"
     ]
    }
   ],
   "source": [
    "print('｜%3d｜'%(12345))"
   ]
  },
  {
   "cell_type": "code",
   "execution_count": 1,
   "metadata": {},
   "outputs": [
    {
     "name": "stdout",
     "output_type": "stream",
     "text": [
      "｜12345     ｜\n"
     ]
    }
   ],
   "source": [
    "print('｜%-10d｜'%(12345))"
   ]
  },
  {
   "cell_type": "code",
   "execution_count": 7,
   "metadata": {},
   "outputs": [
    {
     "name": "stdout",
     "output_type": "stream",
     "text": [
      "|  123.46|\n",
      "|    1.23|\n",
      "| 1234.56|\n",
      "|   12.35|\n",
      "|12345.60|\n"
     ]
    }
   ],
   "source": [
    "#第一個%是指定個是給第二個%\n",
    "#8代表欄寬\n",
    "#.2f是指求到小數第二位\n",
    "print('|%8.2f|'%(123.456))\n",
    "print('|%8.2f|'%(1.23456))\n",
    "print('|%8.2f|'%(1234.56))\n",
    "print('|%8.2f|'%(12.3456))\n",
    "print('|%8.2f|'%(12345.6))"
   ]
  },
  {
   "cell_type": "code",
   "execution_count": 8,
   "metadata": {},
   "outputs": [
    {
     "name": "stdout",
     "output_type": "stream",
     "text": [
      "|123.46|\n",
      "|1.23|\n",
      "|1234.56|\n",
      "|12.35|\n",
      "|12345.60|\n"
     ]
    }
   ],
   "source": [
    "print('|%.2f|'%(123.456))\n",
    "print('|%.2f|'%(1.23456))\n",
    "print('|%.2f|'%(1234.56))\n",
    "print('|%.2f|'%(12.3456))\n",
    "print('|%.2f|'%(12345.6))"
   ]
  },
  {
   "cell_type": "code",
   "execution_count": 10,
   "metadata": {},
   "outputs": [
    {
     "name": "stdout",
     "output_type": "stream",
     "text": [
      "|          Learning Python now!|\n",
      "|Learning Python now!          |\n",
      "|Learning Python now!|\n"
     ]
    }
   ],
   "source": [
    "print('|%30s|'%('Learning Python now!'))\n",
    "print('|%-30s|'%('Learning Python now!'))\n",
    "print('|%15s|'%('Learning Python now!'))"
   ]
  },
  {
   "cell_type": "code",
   "execution_count": 14,
   "metadata": {},
   "outputs": [
    {
     "name": "stdout",
     "output_type": "stream",
     "text": [
      "width= 5,height= 7,area= 24\n"
     ]
    }
   ],
   "source": [
    "print('width=%2d,height=%2d,area=%3d'%(5,7,24))"
   ]
  },
  {
   "cell_type": "code",
   "execution_count": 15,
   "metadata": {},
   "outputs": [
    {
     "name": "stdout",
     "output_type": "stream",
     "text": [
      "     12345        12   1234567\n",
      "        12       123   1234567\n",
      "       123   1234567       123\n"
     ]
    }
   ],
   "source": [
    "print('%10d%10d%10d'%(12345,12,1234567))\n",
    "print('%10d%10d%10d'%(12,123,1234567))\n",
    "print('%10d%10d%10d'%(123,1234567,123))"
   ]
  },
  {
   "cell_type": "code",
   "execution_count": 18,
   "metadata": {},
   "outputs": [
    {
     "name": "stdout",
     "output_type": "stream",
     "text": [
      "100%orange juice\n"
     ]
    }
   ],
   "source": [
    "print('%d%%orange juice'%(100))"
   ]
  },
  {
   "cell_type": "code",
   "execution_count": 17,
   "metadata": {},
   "outputs": [
    {
     "name": "stdout",
     "output_type": "stream",
     "text": [
      "項目\n"
     ]
    }
   ],
   "source": [
    "print('{0}'.format('項目'))"
   ]
  },
  {
   "cell_type": "code",
   "execution_count": 20,
   "metadata": {},
   "outputs": [
    {
     "name": "stdout",
     "output_type": "stream",
     "text": [
      "項目1,項目2\n"
     ]
    }
   ],
   "source": [
    "print('{0},{1}'.format('項目1','項目2'))"
   ]
  },
  {
   "cell_type": "code",
   "execution_count": 21,
   "metadata": {},
   "outputs": [
    {
     "name": "stdout",
     "output_type": "stream",
     "text": [
      "123\n"
     ]
    }
   ],
   "source": [
    "print('{0}'.format(123))"
   ]
  },
  {
   "cell_type": "code",
   "execution_count": 22,
   "metadata": {},
   "outputs": [
    {
     "name": "stdout",
     "output_type": "stream",
     "text": [
      "123,12345\n"
     ]
    }
   ],
   "source": [
    "print('{0},{1}'.format(123,12345))"
   ]
  },
  {
   "cell_type": "code",
   "execution_count": 23,
   "metadata": {},
   "outputs": [
    {
     "name": "stdout",
     "output_type": "stream",
     "text": [
      "  123,  12345\n"
     ]
    }
   ],
   "source": [
    "print('{0:5d},{1:7d}'.format(123,12345))"
   ]
  },
  {
   "cell_type": "code",
   "execution_count": 24,
   "metadata": {},
   "outputs": [
    {
     "name": "stdout",
     "output_type": "stream",
     "text": [
      "x=  123,y=  12345\n"
     ]
    }
   ],
   "source": [
    "print('x={0:5d},y={1:7d}'.format(123,12345))"
   ]
  },
  {
   "cell_type": "code",
   "execution_count": 25,
   "metadata": {},
   "outputs": [
    {
     "name": "stdout",
     "output_type": "stream",
     "text": [
      "x=  123,y=  12345\n"
     ]
    }
   ],
   "source": [
    "print('x={p:5d},y={q:7d}'.format(p=123,q=12345))"
   ]
  },
  {
   "cell_type": "code",
   "execution_count": 27,
   "metadata": {},
   "outputs": [
    {
     "name": "stdout",
     "output_type": "stream",
     "text": [
      "|     12345        12   1234567|\n",
      "|        12   1234567       123|\n",
      "|   1234567       123     12345|\n"
     ]
    }
   ],
   "source": [
    "print('|%10d %9d %9d|'%(12345,12,1234567))\n",
    "print('|%10d %9d %9d|'%(12,1234567,123))\n",
    "print('|%10d %9d %9d|'%(1234567,123,12345))"
   ]
  },
  {
   "cell_type": "code",
   "execution_count": 28,
   "metadata": {},
   "outputs": [
    {
     "name": "stdout",
     "output_type": "stream",
     "text": [
      "Department  \n",
      "of          \n",
      "Computer    \n",
      "Science     \n",
      "\n"
     ]
    }
   ],
   "source": [
    "print(format('Department','12s'))\n",
    "print(format('of','12s'))\n",
    "print(format('Computer','12s'))\n",
    "print(format('Science','12s'))\n",
    "print()"
   ]
  },
  {
   "cell_type": "code",
   "execution_count": 29,
   "metadata": {},
   "outputs": [
    {
     "name": "stdout",
     "output_type": "stream",
     "text": [
      "  Department\n",
      "          of\n",
      "    Computer\n",
      "     Science\n"
     ]
    }
   ],
   "source": [
    "print(format('Department','>12s'))\n",
    "print(format('of','>12s'))\n",
    "print(format('Computer','>12s'))\n",
    "print(format('Science','>12s'))"
   ]
  },
  {
   "cell_type": "code",
   "execution_count": 30,
   "metadata": {},
   "outputs": [
    {
     "name": "stdout",
     "output_type": "stream",
     "text": [
      "    123.46\n",
      "  12345.68\n"
     ]
    }
   ],
   "source": [
    "print(format(123.456,'10.2f'))\n",
    "print(format(12345.678,'10.2f'))"
   ]
  },
  {
   "cell_type": "code",
   "execution_count": 31,
   "metadata": {},
   "outputs": [
    {
     "name": "stdout",
     "output_type": "stream",
     "text": [
      "i=100\n",
      "i=100,j=200\n"
     ]
    }
   ],
   "source": [
    "print('i=%d'%(100))\n",
    "print('i=%d,j=%d'%(100,200))"
   ]
  },
  {
   "cell_type": "code",
   "execution_count": 32,
   "metadata": {},
   "outputs": [
    {
     "name": "stdout",
     "output_type": "stream",
     "text": [
      "Price:$  356.09\n",
      "    123.46    345.79\n",
      "    123.46  100\n",
      "radius=5,area=  78.54\n",
      "Raidus:  5,Area:     78.54\n"
     ]
    }
   ],
   "source": [
    "print('Price:$%8.2f'%(356.08977))\n",
    "print('%10.2f%10.2f'%(123.456,345.789))\n",
    "print('%10.2f%5d'%(123.456,100))\n",
    "print('radius=%d,area=%7.2f'%(5,5*5*3.14159))\n",
    "print('Raidus:{a:3d},Area:{b:10.2f}'.format(a=5,b=5*5*3.14159))"
   ]
  },
  {
   "cell_type": "code",
   "execution_count": 36,
   "metadata": {},
   "outputs": [
    {
     "name": "stdout",
     "output_type": "stream",
     "text": [
      "3.25 degree Celsius in Fahrenheit \\ is37.85\n",
      "94.50 degree Fahrenhe in Celsiusit \\ is34.72\n"
     ]
    }
   ],
   "source": [
    "print('%.2f degree Celsius in Fahrenheit \\ is%.2f'%(3.25,3.25*1.8+32))\n",
    "print('%.2f degree Fahrenhe in Celsiusit \\ is%.2f'%(94.5,(94.5-32)/1.8))"
   ]
  },
  {
   "cell_type": "code",
   "execution_count": 37,
   "metadata": {},
   "outputs": [
    {
     "name": "stdout",
     "output_type": "stream",
     "text": [
      "Month          Amount    \n",
      "1              43400.20  \n",
      "2              45430.28  \n",
      "3              48030.48  \n",
      "4              51112.96  \n",
      "5              52857.20  \n"
     ]
    }
   ],
   "source": [
    "print('%-15s%-10s'%('Month','Amount'))\n",
    "print('%-15d%-10.2f'%(1,43400.2))\n",
    "print('%-15d%-10.2f'%(2,45430.28))\n",
    "print('%-15d%-10.2f'%(3,48030.48))\n",
    "print('%-15d%-10.2f'%(4,51112.96))\n",
    "print('%-15d%-10.2f'%(5,52857.2))"
   ]
  },
  {
   "cell_type": "code",
   "execution_count": 46,
   "metadata": {},
   "outputs": [
    {
     "name": "stdout",
     "output_type": "stream",
     "text": [
      "Using format\n",
      "123      45\n",
      "123456   78901\n"
     ]
    }
   ],
   "source": [
    "print('%-6s%-6s'%('Using','format'))\n",
    "print('%-6s%5s'%('123','45'))\n",
    "print('%-6s%8s'%('123456','78901'))"
   ]
  },
  {
   "cell_type": "code",
   "execution_count": 47,
   "metadata": {},
   "outputs": [
    {
     "name": "stdout",
     "output_type": "stream",
     "text": [
      "Using .format\n",
      "123      45\n",
      "123456   78901\n"
     ]
    }
   ],
   "source": [
    "print('%-6s%-6s'%('Using','.format'))\n",
    "print('%-6s%5s'%('123','45'))\n",
    "print('%-6s%8s'%('123456','78901'))"
   ]
  },
  {
   "cell_type": "code",
   "execution_count": 48,
   "metadata": {},
   "outputs": [
    {
     "name": "stdout",
     "output_type": "stream",
     "text": [
      "Using %    \n",
      "123      45\n",
      "123456   78901\n"
     ]
    }
   ],
   "source": [
    "print('%-6s%-5s'%('Using','%'))\n",
    "print('%-6s%5s'%('123','45'))\n",
    "print('%-6s%8s'%('123456','78901'))"
   ]
  },
  {
   "cell_type": "code",
   "execution_count": 2,
   "metadata": {},
   "outputs": [
    {
     "name": "stdout",
     "output_type": "stream",
     "text": [
      "MemberKaren  ,discount0.35\n",
      "MemberSammy  ,discount0.40\n",
      "MemberJoJo   ,discount0.42\n"
     ]
    }
   ],
   "source": [
    "print('Member{0:7s},discount{1:3.2f}'.format('Karen',0.35))\n",
    "print('Member{0:7s},discount{1:3.2f}'.format('Sammy',0.4))\n",
    "print('Member{0:7s},discount{1:3.2f}'.format('JoJo',0.42))"
   ]
  },
  {
   "cell_type": "code",
   "execution_count": 5,
   "metadata": {},
   "outputs": [
    {
     "name": "stdout",
     "output_type": "stream",
     "text": [
      "                tall short               \n",
      "              strong weak                \n",
      "               think thin                \n"
     ]
    }
   ],
   "source": [
    "print('%20s %-20s'%('tall','short'))\n",
    "print('%20s %-20s'%('strong','weak'))\n",
    "print('%20s %-20s'%('think','thin'))"
   ]
  },
  {
   "cell_type": "code",
   "execution_count": 6,
   "metadata": {},
   "outputs": [
    {
     "name": "stdout",
     "output_type": "stream",
     "text": [
      "   Apple's Products: iPhone              \n",
      "                     iMac                \n",
      "                     Apple Watch         \n",
      "                     ...                 \n"
     ]
    }
   ],
   "source": [
    "print('%20s %-20s'%('Apple\\'s Products:','iPhone'))\n",
    "print('%20s %-20s'%('','iMac'))\n",
    "print('%20s %-20s'%('','Apple Watch'))\n",
    "print('%20s %-20s'%('','...'))"
   ]
  },
  {
   "cell_type": "code",
   "execution_count": 8,
   "metadata": {},
   "outputs": [
    {
     "name": "stdout",
     "output_type": "stream",
     "text": [
      "City            Celsius\n",
      "Taipei            33.20\n",
      "Yilan             32.93\n",
      "MiaoLi            32.29\n",
      "Taichung          32.48\n",
      "HuaLian           33.87\n"
     ]
    }
   ],
   "source": [
    "print('%-15s %7s'%('City','Celsius'))\n",
    "print('%-15s %7.2f'%('Taipei',33.2))\n",
    "print('%-15s %7.2f'%('Yilan',32.93))\n",
    "print('%-15s %7.2f'%('MiaoLi',32.29,))\n",
    "print('%-15s %7.2f'%('Taichung',32.48))\n",
    "print('%-15s %7.2f'%('HuaLian',33.87))"
   ]
  },
  {
   "cell_type": "code",
   "execution_count": 9,
   "metadata": {},
   "outputs": [
    {
     "name": "stdout",
     "output_type": "stream",
     "text": [
      "|    22     44     66     88|\n",
      "|33     55     77     99    |\n",
      "|   222    444    666    888|\n",
      "|333    555    777    999   |\n"
     ]
    }
   ],
   "source": [
    "print('|%6d %6d %6d %6d|'%(22,44,66,88))\n",
    "print('|%-6d %-6d %-6d %-6d|'%(33,55,77,99))\n",
    "print('|%6d %6d %6d %6d|'%(222,444,666,888))\n",
    "print('|%-6d %-6d %-6d %-6d|'%(333,555,777,999))"
   ]
  },
  {
   "cell_type": "code",
   "execution_count": 11,
   "metadata": {},
   "outputs": [
    {
     "name": "stdout",
     "output_type": "stream",
     "text": [
      "---------\n",
      "Learning Python now***\n",
      "Python is fun$$$\n",
      "---------\n"
     ]
    }
   ],
   "source": [
    "print('-'*9)\n",
    "print('Learning Python now***')\n",
    "print('Python is fun$$$')\n",
    "print('-'*9)"
   ]
  },
  {
   "cell_type": "code",
   "execution_count": 16,
   "metadata": {},
   "outputs": [
    {
     "name": "stdout",
     "output_type": "stream",
     "text": [
      "Using format\n",
      "123.46     45.68\n",
      "123456.79  78901.23\n"
     ]
    }
   ],
   "source": [
    "print('%-6s%-6s'%('Using','format'))\n",
    "print('%-11s%5s'%('123.46','45.68'))\n",
    "print('%-11s%2s'%('123456.79','78901.23'))"
   ]
  },
  {
   "cell_type": "code",
   "execution_count": 17,
   "metadata": {},
   "outputs": [
    {
     "name": "stdout",
     "output_type": "stream",
     "text": [
      "Using .format\n",
      "123.46     45.68\n",
      "123456.79  78901.23\n"
     ]
    }
   ],
   "source": [
    "print('%-6s%-6s'%('Using','.format'))\n",
    "print('%-11s%5s'%('123.46','45.68'))\n",
    "print('%-11s%2s'%('123456.79','78901.23'))"
   ]
  },
  {
   "cell_type": "code",
   "execution_count": 18,
   "metadata": {},
   "outputs": [
    {
     "name": "stdout",
     "output_type": "stream",
     "text": [
      "Using %     \n",
      "123.46     45.68\n",
      "123456.79  78901.23\n"
     ]
    }
   ],
   "source": [
    "print('%-6s%-6s'%('Using','%'))\n",
    "print('%-11s%5s'%('123.46','45.68'))\n",
    "print('%-11s%2s'%('123456.79','78901.23'))"
   ]
  },
  {
   "cell_type": "code",
   "execution_count": 19,
   "metadata": {},
   "outputs": [
    {
     "name": "stdout",
     "output_type": "stream",
     "text": [
      "|12345|\n"
     ]
    }
   ],
   "source": [
    "print('|%3d|'%(12345))"
   ]
  },
  {
   "cell_type": "code",
   "execution_count": 20,
   "metadata": {},
   "outputs": [
    {
     "name": "stdout",
     "output_type": "stream",
     "text": [
      "|12345|\n"
     ]
    }
   ],
   "source": [
    "print('|%5d|'%(12345))"
   ]
  },
  {
   "cell_type": "code",
   "execution_count": 21,
   "metadata": {},
   "outputs": [
    {
     "name": "stdout",
     "output_type": "stream",
     "text": [
      "|   12345|\n"
     ]
    }
   ],
   "source": [
    "print('|%8d|'%(12345))"
   ]
  },
  {
   "cell_type": "code",
   "execution_count": 22,
   "metadata": {},
   "outputs": [
    {
     "name": "stdout",
     "output_type": "stream",
     "text": [
      "|123.456000|\n"
     ]
    }
   ],
   "source": [
    "print('|%f|'%(123.456))"
   ]
  },
  {
   "cell_type": "code",
   "execution_count": 23,
   "metadata": {},
   "outputs": [
    {
     "name": "stdout",
     "output_type": "stream",
     "text": [
      "|123.46|\n"
     ]
    }
   ],
   "source": [
    "print('|%5.2f|'%(123.456))"
   ]
  },
  {
   "cell_type": "code",
   "execution_count": 24,
   "metadata": {},
   "outputs": [
    {
     "name": "stdout",
     "output_type": "stream",
     "text": [
      "|    123.46|\n"
     ]
    }
   ],
   "source": [
    "print('|%10.2f|'%(123.456))"
   ]
  },
  {
   "cell_type": "code",
   "execution_count": 25,
   "metadata": {},
   "outputs": [
    {
     "name": "stdout",
     "output_type": "stream",
     "text": [
      "|123.46|\n"
     ]
    }
   ],
   "source": [
    "print('|%.2f|'%(123.456))"
   ]
  },
  {
   "cell_type": "code",
   "execution_count": 26,
   "metadata": {},
   "outputs": [
    {
     "name": "stdout",
     "output_type": "stream",
     "text": [
      "|     Apple|\n"
     ]
    }
   ],
   "source": [
    "print('|%10s|'%('Apple'))"
   ]
  },
  {
   "cell_type": "code",
   "execution_count": 27,
   "metadata": {},
   "outputs": [
    {
     "name": "stdout",
     "output_type": "stream",
     "text": [
      "|12345   |\n"
     ]
    }
   ],
   "source": [
    "print('|%-8d|'%(12345))"
   ]
  },
  {
   "cell_type": "code",
   "execution_count": 28,
   "metadata": {},
   "outputs": [
    {
     "name": "stdout",
     "output_type": "stream",
     "text": [
      "|123.46    |\n"
     ]
    }
   ],
   "source": [
    "print('|%-10.2f|'%(123.456))"
   ]
  },
  {
   "cell_type": "code",
   "execution_count": 30,
   "metadata": {},
   "outputs": [
    {
     "name": "stdout",
     "output_type": "stream",
     "text": [
      "|Apple     |\n"
     ]
    }
   ],
   "source": [
    "print('|%-10s|'%('Apple'))"
   ]
  },
  {
   "cell_type": "code",
   "execution_count": 1,
   "metadata": {},
   "outputs": [
    {
     "name": "stdout",
     "output_type": "stream",
     "text": [
      "21.0\n",
      "23.0\n"
     ]
    }
   ],
   "source": [
    "a=7+8*2-6+8/2\n",
    "print(a)\n",
    "b=(7+8)*2-(6+8)/2\n",
    "print(b)"
   ]
  },
  {
   "cell_type": "code",
   "execution_count": 2,
   "metadata": {},
   "outputs": [
    {
     "name": "stdout",
     "output_type": "stream",
     "text": [
      "Learning Pythonis fun\n"
     ]
    }
   ],
   "source": [
    "str1='Learning Python '+'is fun'\n",
    "print(str1)"
   ]
  },
  {
   "cell_type": "code",
   "execution_count": 8,
   "metadata": {},
   "outputs": [
    {
     "name": "stdout",
     "output_type": "stream",
     "text": [
      "Learning Python is fun\n"
     ]
    }
   ],
   "source": [
    "str2='Learning Python '+ \\\n",
    "'is fun'\n",
    "print(str2)"
   ]
  },
  {
   "cell_type": "code",
   "execution_count": 11,
   "metadata": {},
   "outputs": [
    {
     "name": "stdout",
     "output_type": "stream",
     "text": [
      "is your birthday in set1?\n",
      "1  3  5  7\n",
      "9  11 13 15\n",
      "17 19 21 23\n",
      "25 27 29 31\n",
      "\n",
      " Enter 1 for Yes and 0 for No:\n"
     ]
    }
   ],
   "source": [
    "Q1='is your birthday in set1?\\n'+\\\n",
    "'1  3  5  7\\n'+\\\n",
    "'9  11 13 15\\n'+\\\n",
    "'17 19 21 23\\n'+\\\n",
    "'25 27 29 31\\n'+\\\n",
    "'\\n Enter 1 for Yes and 0 for No:'\n",
    "print(Q1)"
   ]
  },
  {
   "cell_type": "code",
   "execution_count": 12,
   "metadata": {},
   "outputs": [
    {
     "name": "stdout",
     "output_type": "stream",
     "text": [
      "Hello,World\n",
      "Hello,World\n",
      "Hello,World\n"
     ]
    }
   ],
   "source": [
    "print('Hello,World')\n",
    "print('Hello,',end='')\n",
    "print('World')\n",
    "s='Hello,'+\\\n",
    "'World'\n",
    "print(s)"
   ]
  },
  {
   "cell_type": "code",
   "execution_count": 13,
   "metadata": {},
   "outputs": [
    {
     "data": {
      "text/plain": [
       "2.6666666666666665"
      ]
     },
     "execution_count": 13,
     "metadata": {},
     "output_type": "execute_result"
    }
   ],
   "source": [
    "8/3"
   ]
  },
  {
   "cell_type": "code",
   "execution_count": 14,
   "metadata": {},
   "outputs": [
    {
     "data": {
      "text/plain": [
       "2"
      ]
     },
     "execution_count": 14,
     "metadata": {},
     "output_type": "execute_result"
    }
   ],
   "source": [
    "8//3\n",
    "#商"
   ]
  },
  {
   "cell_type": "code",
   "execution_count": 15,
   "metadata": {},
   "outputs": [
    {
     "data": {
      "text/plain": [
       "64"
      ]
     },
     "execution_count": 15,
     "metadata": {},
     "output_type": "execute_result"
    }
   ],
   "source": [
    "8**2\n",
    "#平方"
   ]
  },
  {
   "cell_type": "code",
   "execution_count": 16,
   "metadata": {},
   "outputs": [
    {
     "data": {
      "text/plain": [
       "10.0"
      ]
     },
     "execution_count": 16,
     "metadata": {},
     "output_type": "execute_result"
    }
   ],
   "source": [
    "100**0.5\n",
    "#開根號"
   ]
  },
  {
   "cell_type": "code",
   "execution_count": 17,
   "metadata": {},
   "outputs": [
    {
     "data": {
      "text/plain": [
       "2"
      ]
     },
     "execution_count": 17,
     "metadata": {},
     "output_type": "execute_result"
    }
   ],
   "source": [
    "8%3\n",
    "#餘數"
   ]
  },
  {
   "cell_type": "code",
   "execution_count": 18,
   "metadata": {},
   "outputs": [
    {
     "name": "stdout",
     "output_type": "stream",
     "text": [
      "100 100 100\n"
     ]
    }
   ],
   "source": [
    "i=100\n",
    "j=100\n",
    "k=100\n",
    "str1='Learning Python'+'is fun'\n",
    "print(i,j,k)"
   ]
  },
  {
   "cell_type": "code",
   "execution_count": 19,
   "metadata": {},
   "outputs": [
    {
     "name": "stdout",
     "output_type": "stream",
     "text": [
      "200 200 200\n"
     ]
    }
   ],
   "source": [
    "i=j=k=200\n",
    "print(i,j,k)"
   ]
  },
  {
   "cell_type": "code",
   "execution_count": 20,
   "metadata": {},
   "outputs": [
    {
     "name": "stdout",
     "output_type": "stream",
     "text": [
      "100 200\n"
     ]
    }
   ],
   "source": [
    "a,b=100,200\n",
    "print(a,b)"
   ]
  },
  {
   "cell_type": "code",
   "execution_count": 22,
   "metadata": {},
   "outputs": [
    {
     "name": "stdout",
     "output_type": "stream",
     "text": [
      "200 200\n"
     ]
    }
   ],
   "source": [
    "a=100\n",
    "b=200\n",
    "a=b\n",
    "b=a\n",
    "print(a,b)"
   ]
  },
  {
   "cell_type": "code",
   "execution_count": 23,
   "metadata": {},
   "outputs": [
    {
     "name": "stdout",
     "output_type": "stream",
     "text": [
      "200 100\n"
     ]
    }
   ],
   "source": [
    "a=100\n",
    "b=200\n",
    "temp=a\n",
    "a=b\n",
    "b=temp\n",
    "print(a,b)"
   ]
  },
  {
   "cell_type": "code",
   "execution_count": 24,
   "metadata": {},
   "outputs": [
    {
     "name": "stdout",
     "output_type": "stream",
     "text": [
      "200 100\n"
     ]
    }
   ],
   "source": [
    "a=100\n",
    "b=200\n",
    "a,b=b,a\n",
    "print(a,b)"
   ]
  },
  {
   "cell_type": "code",
   "execution_count": 25,
   "metadata": {},
   "outputs": [
    {
     "name": "stdout",
     "output_type": "stream",
     "text": [
      "12\n"
     ]
    }
   ],
   "source": [
    "a=10\n",
    "a+=2\n",
    "print(a)"
   ]
  },
  {
   "cell_type": "code",
   "execution_count": 26,
   "metadata": {},
   "outputs": [
    {
     "name": "stdout",
     "output_type": "stream",
     "text": [
      "60\n"
     ]
    }
   ],
   "source": [
    "a*=5\n",
    "print(a)"
   ]
  },
  {
   "cell_type": "code",
   "execution_count": 27,
   "metadata": {},
   "outputs": [
    {
     "name": "stdout",
     "output_type": "stream",
     "text": [
      "20\n"
     ]
    }
   ],
   "source": [
    "a//=3\n",
    "print(a)"
   ]
  },
  {
   "cell_type": "code",
   "execution_count": 28,
   "metadata": {},
   "outputs": [
    {
     "name": "stdout",
     "output_type": "stream",
     "text": [
      "2\n"
     ]
    }
   ],
   "source": [
    "a%=6\n",
    "print(a)"
   ]
  },
  {
   "cell_type": "code",
   "execution_count": 29,
   "metadata": {},
   "outputs": [
    {
     "name": "stdout",
     "output_type": "stream",
     "text": [
      "3\n"
     ]
    }
   ],
   "source": [
    "k=eval(input())"
   ]
  },
  {
   "cell_type": "code",
   "execution_count": 30,
   "metadata": {},
   "outputs": [
    {
     "name": "stdout",
     "output_type": "stream",
     "text": [
      "3\n"
     ]
    }
   ],
   "source": [
    "print(k)"
   ]
  },
  {
   "cell_type": "code",
   "execution_count": 31,
   "metadata": {},
   "outputs": [
    {
     "name": "stdout",
     "output_type": "stream",
     "text": [
      "Please enter an integer:45\n"
     ]
    }
   ],
   "source": [
    "s=eval(input('Please enter an integer:'))"
   ]
  },
  {
   "cell_type": "code",
   "execution_count": 32,
   "metadata": {},
   "outputs": [
    {
     "data": {
      "text/plain": [
       "45"
      ]
     },
     "execution_count": 32,
     "metadata": {},
     "output_type": "execute_result"
    }
   ],
   "source": [
    "s"
   ]
  },
  {
   "cell_type": "code",
   "execution_count": 49,
   "metadata": {},
   "outputs": [
    {
     "name": "stdout",
     "output_type": "stream",
     "text": [
      "Please enter a string:Hello,worls\n"
     ]
    }
   ],
   "source": [
    "s2=input('Please enter a string:')"
   ]
  },
  {
   "cell_type": "code",
   "execution_count": 50,
   "metadata": {},
   "outputs": [
    {
     "data": {
      "text/plain": [
       "'Hello,worls'"
      ]
     },
     "execution_count": 50,
     "metadata": {},
     "output_type": "execute_result"
    }
   ],
   "source": [
    "s2"
   ]
  },
  {
   "cell_type": "code",
   "execution_count": 51,
   "metadata": {},
   "outputs": [
    {
     "name": "stdout",
     "output_type": "stream",
     "text": [
      "Hello,worls\n"
     ]
    }
   ],
   "source": [
    "print(s2)"
   ]
  },
  {
   "cell_type": "code",
   "execution_count": 52,
   "metadata": {},
   "outputs": [
    {
     "name": "stdout",
     "output_type": "stream",
     "text": [
      "Please enter an integer:88\n"
     ]
    }
   ],
   "source": [
    "str2=input('Please enter an integer:')"
   ]
  },
  {
   "cell_type": "code",
   "execution_count": 53,
   "metadata": {},
   "outputs": [
    {
     "name": "stdout",
     "output_type": "stream",
     "text": [
      "88\n"
     ]
    }
   ],
   "source": [
    "print(str2)"
   ]
  },
  {
   "cell_type": "code",
   "execution_count": 54,
   "metadata": {},
   "outputs": [
    {
     "data": {
      "text/plain": [
       "'88'"
      ]
     },
     "execution_count": 54,
     "metadata": {},
     "output_type": "execute_result"
    }
   ],
   "source": [
    "str2"
   ]
  },
  {
   "cell_type": "code",
   "execution_count": 55,
   "metadata": {},
   "outputs": [
    {
     "data": {
      "text/plain": [
       "str"
      ]
     },
     "execution_count": 55,
     "metadata": {},
     "output_type": "execute_result"
    }
   ],
   "source": [
    "type(str2)"
   ]
  },
  {
   "cell_type": "code",
   "execution_count": 56,
   "metadata": {},
   "outputs": [
    {
     "name": "stdout",
     "output_type": "stream",
     "text": [
      "Please enter an integer:88\n"
     ]
    }
   ],
   "source": [
    "str2=input('Please enter an integer:')"
   ]
  },
  {
   "cell_type": "code",
   "execution_count": 57,
   "metadata": {},
   "outputs": [
    {
     "ename": "TypeError",
     "evalue": "can only concatenate str (not \"int\") to str",
     "output_type": "error",
     "traceback": [
      "\u001b[1;31m---------------------------------------------------------------------------\u001b[0m",
      "\u001b[1;31mTypeError\u001b[0m                                 Traceback (most recent call last)",
      "\u001b[1;32m<ipython-input-57-1a3af5713f86>\u001b[0m in \u001b[0;36m<module>\u001b[1;34m\u001b[0m\n\u001b[1;32m----> 1\u001b[1;33m \u001b[0mnum\u001b[0m\u001b[1;33m=\u001b[0m\u001b[0mstr2\u001b[0m\u001b[1;33m+\u001b[0m\u001b[1;36m100\u001b[0m\u001b[1;33m\u001b[0m\u001b[1;33m\u001b[0m\u001b[0m\n\u001b[0m\u001b[0;32m      2\u001b[0m \u001b[0mprint\u001b[0m\u001b[1;33m(\u001b[0m\u001b[0mnum\u001b[0m\u001b[1;33m)\u001b[0m\u001b[1;33m\u001b[0m\u001b[1;33m\u001b[0m\u001b[0m\n",
      "\u001b[1;31mTypeError\u001b[0m: can only concatenate str (not \"int\") to str"
     ]
    }
   ],
   "source": [
    "num=str2+100\n",
    "print(num)"
   ]
  },
  {
   "cell_type": "code",
   "execution_count": 58,
   "metadata": {},
   "outputs": [
    {
     "name": "stdout",
     "output_type": "stream",
     "text": [
      "Please enter an integer:88\n"
     ]
    }
   ],
   "source": [
    "str2=eval(input('Please enter an integer:'))"
   ]
  },
  {
   "cell_type": "code",
   "execution_count": 59,
   "metadata": {},
   "outputs": [
    {
     "name": "stdout",
     "output_type": "stream",
     "text": [
      "188\n"
     ]
    }
   ],
   "source": [
    "num=str2+100\n",
    "print(num)"
   ]
  },
  {
   "cell_type": "code",
   "execution_count": 60,
   "metadata": {},
   "outputs": [
    {
     "name": "stdout",
     "output_type": "stream",
     "text": [
      "Please enter n1:100\n"
     ]
    }
   ],
   "source": [
    "n1=eval(input('Please enter n1:'))"
   ]
  },
  {
   "cell_type": "code",
   "execution_count": 61,
   "metadata": {},
   "outputs": [
    {
     "name": "stdout",
     "output_type": "stream",
     "text": [
      "Please enter n2:200\n"
     ]
    }
   ],
   "source": [
    "n2=eval(input('Please enter n2:'))"
   ]
  },
  {
   "cell_type": "code",
   "execution_count": 62,
   "metadata": {},
   "outputs": [
    {
     "name": "stdout",
     "output_type": "stream",
     "text": [
      "300\n"
     ]
    }
   ],
   "source": [
    "print(n1+n2)"
   ]
  },
  {
   "cell_type": "code",
   "execution_count": 1,
   "metadata": {},
   "outputs": [
    {
     "name": "stdout",
     "output_type": "stream",
     "text": [
      "Enter two n separated by comma:100,200\n"
     ]
    }
   ],
   "source": [
    "n1,n2=eval(input('Enter two n separated by comma:'))"
   ]
  },
  {
   "cell_type": "code",
   "execution_count": 2,
   "metadata": {},
   "outputs": [
    {
     "name": "stdout",
     "output_type": "stream",
     "text": [
      "300\n"
     ]
    }
   ],
   "source": [
    "print(n1+n2)"
   ]
  },
  {
   "cell_type": "code",
   "execution_count": 3,
   "metadata": {},
   "outputs": [
    {
     "name": "stdout",
     "output_type": "stream",
     "text": [
      "Enter three n separated by commas:100,150,170\n",
      "total=420,and average=140.000000\n"
     ]
    }
   ],
   "source": [
    "n1,n2,n3=eval(input('Enter three n separated by commas:'))\n",
    "total=n1+n2+n3\n",
    "average=total/3\n",
    "print('total=%d,and average=%f'%(total,average))"
   ]
  },
  {
   "cell_type": "code",
   "execution_count": 4,
   "metadata": {},
   "outputs": [
    {
     "name": "stdout",
     "output_type": "stream",
     "text": [
      "total=420,and average=140.00\n"
     ]
    }
   ],
   "source": [
    "print('total=%d,and average=%.2f'%(total,average))"
   ]
  },
  {
   "cell_type": "code",
   "execution_count": 1,
   "metadata": {},
   "outputs": [
    {
     "name": "stdout",
     "output_type": "stream",
     "text": [
      "Enter the radius:5\n",
      "Area=78.54\n",
      "Perimeter=31.42\n"
     ]
    }
   ],
   "source": [
    "radius=eval(input('Enter the radius:'))\n",
    "area=radius*radius*3.14159\n",
    "perimeter=2*3.14159*radius\n",
    "print('Area=%.2f'%(area))\n",
    "print('Perimeter=%.2f'%(perimeter))"
   ]
  },
  {
   "cell_type": "code",
   "execution_count": 2,
   "metadata": {},
   "outputs": [
    {
     "name": "stdout",
     "output_type": "stream",
     "text": [
      "Enter the radius:5\n",
      "Area=78.54\n"
     ]
    }
   ],
   "source": [
    "import math\n",
    "radius=eval(input('Enter the radius:'))\n",
    "area=radius*radius*math.pi\n",
    "perimeter=2*math.pi*radius\n",
    "print('Area=%.2f'%(area))"
   ]
  },
  {
   "cell_type": "code",
   "execution_count": 3,
   "metadata": {},
   "outputs": [
    {
     "name": "stdout",
     "output_type": "stream",
     "text": [
      "100 200\n",
      "100\n",
      "200\n",
      "\n"
     ]
    }
   ],
   "source": [
    "a=100\n",
    "b=200\n",
    "c,d=a,b\n",
    "print(c,d)\n",
    "print(c)\n",
    "print(d)\n",
    "print()"
   ]
  },
  {
   "cell_type": "code",
   "execution_count": 5,
   "metadata": {},
   "outputs": [
    {
     "name": "stdout",
     "output_type": "stream",
     "text": [
      "100 200\n",
      "100200***Over\n"
     ]
    }
   ],
   "source": [
    "a=100\n",
    "b=200\n",
    "c,d=a,b\n",
    "print(c,d)\n",
    "print(c,end='')\n",
    "print(d,end='***')\n",
    "print('Over')"
   ]
  },
  {
   "cell_type": "code",
   "execution_count": 6,
   "metadata": {},
   "outputs": [
    {
     "name": "stdout",
     "output_type": "stream",
     "text": [
      "100 200\n",
      "100$and\n",
      "200***Over\n"
     ]
    }
   ],
   "source": [
    "a=100\n",
    "b=200\n",
    "c,d=a,b\n",
    "print(c,d)\n",
    "print(c,end='$')\n",
    "print('and')\n",
    "print(d,end='***')\n",
    "print('Over')"
   ]
  },
  {
   "cell_type": "code",
   "execution_count": 7,
   "metadata": {},
   "outputs": [
    {
     "name": "stdout",
     "output_type": "stream",
     "text": [
      "300\n",
      "33.333333333333336\n",
      "33\n",
      "1\n",
      "1000000\n",
      "10.0\n"
     ]
    }
   ],
   "source": [
    "x=100\n",
    "y=3\n",
    "print(x*y)\n",
    "print(x/y)\n",
    "print(x//y)\n",
    "print(x%y)\n",
    "print(x**y)\n",
    "print(x**0.5)"
   ]
  },
  {
   "cell_type": "code",
   "execution_count": 9,
   "metadata": {},
   "outputs": [
    {
     "name": "stdout",
     "output_type": "stream",
     "text": [
      "Hello,Python\n",
      "300\n"
     ]
    }
   ],
   "source": [
    "str1='Hello,'\n",
    "str2=\"Python\"\n",
    "str3=str1+str2\n",
    "print(str3)\n",
    "a=100\n",
    "b=200\n",
    "c=a+b\n",
    "print(c)"
   ]
  },
  {
   "cell_type": "code",
   "execution_count": 10,
   "metadata": {},
   "outputs": [
    {
     "name": "stdout",
     "output_type": "stream",
     "text": [
      "Hello,Python now\n"
     ]
    }
   ],
   "source": [
    "str='Hello,'+\\\n",
    "'Python,Let\\'s learning'\n",
    "str2=\"Python now\"\n",
    "str3=str1+str2\n",
    "print(str3)"
   ]
  },
  {
   "cell_type": "code",
   "execution_count": 11,
   "metadata": {},
   "outputs": [
    {
     "name": "stdout",
     "output_type": "stream",
     "text": [
      "33\n",
      "1\n",
      "33.333333333333336\n"
     ]
    }
   ],
   "source": [
    "a=100\n",
    "b=3\n",
    "a//=b  #a//b=a\n",
    "print(a)\n",
    "\n",
    "a=100\n",
    "a%=b  #a%b=a\n",
    "print(a)\n",
    "\n",
    "a=100\n",
    "a/=b  #a/b=a\n",
    "print(a)"
   ]
  },
  {
   "cell_type": "code",
   "execution_count": 12,
   "metadata": {},
   "outputs": [
    {
     "name": "stdout",
     "output_type": "stream",
     "text": [
      "100 200\n",
      "200 100\n"
     ]
    }
   ],
   "source": [
    "a=100\n",
    "b=200\n",
    "print(a,b)\n",
    "\n",
    "b,a=a,b\n",
    "print(a,b)"
   ]
  },
  {
   "cell_type": "code",
   "execution_count": 13,
   "metadata": {},
   "outputs": [
    {
     "name": "stdout",
     "output_type": "stream",
     "text": [
      "100 200\n",
      "200 100\n"
     ]
    }
   ],
   "source": [
    "a=100\n",
    "b=200\n",
    "print(a,b)\n",
    "\n",
    "temp=a\n",
    "a=b\n",
    "b=temp\n",
    "print(a,b)"
   ]
  },
  {
   "cell_type": "code",
   "execution_count": 14,
   "metadata": {},
   "outputs": [
    {
     "name": "stdout",
     "output_type": "stream",
     "text": [
      "Enter an integer:5\n",
      "5 105\n",
      "Enter a string:HI\n",
      "HIi8\n"
     ]
    }
   ],
   "source": [
    "a=eval(input('Enter an integer:'))\n",
    "b=a+100\n",
    "print(a,b)\n",
    "\n",
    "str1=input('Enter a string:')\n",
    "str2=str1+'i8'\n",
    "print(str2)"
   ]
  },
  {
   "cell_type": "code",
   "execution_count": 16,
   "metadata": {},
   "outputs": [
    {
     "data": {
      "text/plain": [
       "8.2"
      ]
     },
     "execution_count": 16,
     "metadata": {},
     "output_type": "execute_result"
    }
   ],
   "source": [
    "41/5"
   ]
  },
  {
   "cell_type": "code",
   "execution_count": 17,
   "metadata": {},
   "outputs": [
    {
     "data": {
      "text/plain": [
       "8"
      ]
     },
     "execution_count": 17,
     "metadata": {},
     "output_type": "execute_result"
    }
   ],
   "source": [
    "41//5"
   ]
  },
  {
   "cell_type": "code",
   "execution_count": 18,
   "metadata": {},
   "outputs": [
    {
     "data": {
      "text/plain": [
       "1"
      ]
     },
     "execution_count": 18,
     "metadata": {},
     "output_type": "execute_result"
    }
   ],
   "source": [
    "41%5"
   ]
  },
  {
   "cell_type": "code",
   "execution_count": 19,
   "metadata": {},
   "outputs": [
    {
     "data": {
      "text/plain": [
       "0"
      ]
     },
     "execution_count": 19,
     "metadata": {},
     "output_type": "execute_result"
    }
   ],
   "source": [
    "50%5"
   ]
  },
  {
   "cell_type": "code",
   "execution_count": 20,
   "metadata": {},
   "outputs": [
    {
     "data": {
      "text/plain": [
       "1"
      ]
     },
     "execution_count": 20,
     "metadata": {},
     "output_type": "execute_result"
    }
   ],
   "source": [
    "1%2"
   ]
  },
  {
   "cell_type": "code",
   "execution_count": 21,
   "metadata": {},
   "outputs": [
    {
     "data": {
      "text/plain": [
       "2"
      ]
     },
     "execution_count": 21,
     "metadata": {},
     "output_type": "execute_result"
    }
   ],
   "source": [
    "35%3"
   ]
  },
  {
   "cell_type": "code",
   "execution_count": 22,
   "metadata": {},
   "outputs": [
    {
     "data": {
      "text/plain": [
       "45"
      ]
     },
     "execution_count": 22,
     "metadata": {},
     "output_type": "execute_result"
    }
   ],
   "source": [
    "45+4*3-12"
   ]
  },
  {
   "cell_type": "code",
   "execution_count": 24,
   "metadata": {},
   "outputs": [
    {
     "data": {
      "text/plain": [
       "46"
      ]
     },
     "execution_count": 24,
     "metadata": {},
     "output_type": "execute_result"
    }
   ],
   "source": [
    "45+34%3*(21*3%2)"
   ]
  },
  {
   "cell_type": "code",
   "execution_count": 25,
   "metadata": {},
   "outputs": [
    {
     "data": {
      "text/plain": [
       "195"
      ]
     },
     "execution_count": 25,
     "metadata": {},
     "output_type": "execute_result"
    }
   ],
   "source": [
    "6**3-21"
   ]
  },
  {
   "cell_type": "code",
   "execution_count": 26,
   "metadata": {},
   "outputs": [
    {
     "data": {
      "text/plain": [
       "-9.0"
      ]
     },
     "execution_count": 26,
     "metadata": {},
     "output_type": "execute_result"
    }
   ],
   "source": [
    "100**0.5*2-29"
   ]
  },
  {
   "cell_type": "code",
   "execution_count": 28,
   "metadata": {},
   "outputs": [
    {
     "name": "stdout",
     "output_type": "stream",
     "text": [
      "122*****333\n",
      "\n"
     ]
    }
   ],
   "source": [
    "#output1\n",
    "print(1,end='')\n",
    "print(22,end='*****')\n",
    "print(333)\n",
    "print()"
   ]
  },
  {
   "cell_type": "code",
   "execution_count": 29,
   "metadata": {},
   "outputs": [
    {
     "name": "stdout",
     "output_type": "stream",
     "text": [
      "1$22@@@@@333\n",
      "Over\n"
     ]
    }
   ],
   "source": [
    "#output2\n",
    "print(1,end='$')\n",
    "print(22,end='@@@@@')\n",
    "print(333)\n",
    "print('Over')"
   ]
  },
  {
   "cell_type": "code",
   "execution_count": 51,
   "metadata": {},
   "outputs": [
    {
     "name": "stdout",
     "output_type": "stream",
     "text": [
      "Enter five n separated by commas:n1,n2,n3,n4,n5\n",
      "20 40 60 80 100\n",
      "sum=300\n",
      "average=60.0\n"
     ]
    }
   ],
   "source": [
    "n1,n2,n3,n4,n5=eval(input('Enter five n separated by commas:'))\n",
    "Sum=n1+n2+n3+n4+n5\n",
    "Average=Sum/5\n",
    "print(n1,n2,n3,n4,n5)\n",
    "print('sum=%d\\naverage=%.1f'%(Sum,Average))"
   ]
  },
  {
   "cell_type": "code",
   "execution_count": 52,
   "metadata": {},
   "outputs": [
    {
     "data": {
      "text/plain": [
       "100"
      ]
     },
     "execution_count": 52,
     "metadata": {},
     "output_type": "execute_result"
    }
   ],
   "source": [
    "abs(-100)"
   ]
  },
  {
   "cell_type": "code",
   "execution_count": 53,
   "metadata": {},
   "outputs": [
    {
     "data": {
      "text/plain": [
       "100"
      ]
     },
     "execution_count": 53,
     "metadata": {},
     "output_type": "execute_result"
    }
   ],
   "source": [
    "max(12,23,100,58,60)"
   ]
  },
  {
   "cell_type": "code",
   "execution_count": 54,
   "metadata": {},
   "outputs": [
    {
     "data": {
      "text/plain": [
       "12"
      ]
     },
     "execution_count": 54,
     "metadata": {},
     "output_type": "execute_result"
    }
   ],
   "source": [
    "min(12,23,100,58,60)"
   ]
  },
  {
   "cell_type": "code",
   "execution_count": 55,
   "metadata": {},
   "outputs": [
    {
     "data": {
      "text/plain": [
       "32"
      ]
     },
     "execution_count": 55,
     "metadata": {},
     "output_type": "execute_result"
    }
   ],
   "source": [
    "pow(2,5)"
   ]
  },
  {
   "cell_type": "code",
   "execution_count": 56,
   "metadata": {},
   "outputs": [
    {
     "data": {
      "text/plain": [
       "7"
      ]
     },
     "execution_count": 56,
     "metadata": {},
     "output_type": "execute_result"
    }
   ],
   "source": [
    "round(6.6)"
   ]
  },
  {
   "cell_type": "code",
   "execution_count": 57,
   "metadata": {},
   "outputs": [
    {
     "data": {
      "text/plain": [
       "6"
      ]
     },
     "execution_count": 57,
     "metadata": {},
     "output_type": "execute_result"
    }
   ],
   "source": [
    "round(5.5)"
   ]
  },
  {
   "cell_type": "code",
   "execution_count": 58,
   "metadata": {},
   "outputs": [
    {
     "data": {
      "text/plain": [
       "4"
      ]
     },
     "execution_count": 58,
     "metadata": {},
     "output_type": "execute_result"
    }
   ],
   "source": [
    "round(4.5)"
   ]
  },
  {
   "cell_type": "code",
   "execution_count": 59,
   "metadata": {},
   "outputs": [
    {
     "data": {
      "text/plain": [
       "6.67"
      ]
     },
     "execution_count": 59,
     "metadata": {},
     "output_type": "execute_result"
    }
   ],
   "source": [
    "round(6.667,2)"
   ]
  },
  {
   "cell_type": "code",
   "execution_count": 60,
   "metadata": {},
   "outputs": [
    {
     "data": {
      "text/plain": [
       "6.66"
      ]
     },
     "execution_count": 60,
     "metadata": {},
     "output_type": "execute_result"
    }
   ],
   "source": [
    "round(6.663,2)"
   ]
  },
  {
   "cell_type": "code",
   "execution_count": 61,
   "metadata": {},
   "outputs": [
    {
     "data": {
      "text/plain": [
       "12"
      ]
     },
     "execution_count": 61,
     "metadata": {},
     "output_type": "execute_result"
    }
   ],
   "source": [
    "int(12.34)"
   ]
  },
  {
   "cell_type": "code",
   "execution_count": 63,
   "metadata": {},
   "outputs": [
    {
     "name": "stdout",
     "output_type": "stream",
     "text": [
      "44512\n"
     ]
    }
   ],
   "source": [
    "ans=8.5*8.5*8.5*8.5*8.5+(9.5-3)*(9.5-3)+100.2\n",
    "print(int(ans))"
   ]
  },
  {
   "cell_type": "code",
   "execution_count": 64,
   "metadata": {},
   "outputs": [
    {
     "name": "stdout",
     "output_type": "stream",
     "text": [
      "44512\n"
     ]
    }
   ],
   "source": [
    "ans=pow(8.5,5)+pow((9.5-3),2)+100.2\n",
    "print(int(ans))"
   ]
  },
  {
   "cell_type": "code",
   "execution_count": 65,
   "metadata": {},
   "outputs": [],
   "source": [
    "import math"
   ]
  },
  {
   "cell_type": "code",
   "execution_count": 66,
   "metadata": {},
   "outputs": [
    {
     "data": {
      "text/plain": [
       "12.34"
      ]
     },
     "execution_count": 66,
     "metadata": {},
     "output_type": "execute_result"
    }
   ],
   "source": [
    "math.fabs(-12.34)"
   ]
  },
  {
   "cell_type": "code",
   "execution_count": 67,
   "metadata": {},
   "outputs": [
    {
     "data": {
      "text/plain": [
       "6"
      ]
     },
     "execution_count": 67,
     "metadata": {},
     "output_type": "execute_result"
    }
   ],
   "source": [
    "math.ceil(5.6)"
   ]
  },
  {
   "cell_type": "code",
   "execution_count": 68,
   "metadata": {},
   "outputs": [
    {
     "data": {
      "text/plain": [
       "5"
      ]
     },
     "execution_count": 68,
     "metadata": {},
     "output_type": "execute_result"
    }
   ],
   "source": [
    "math.floor(5.6)"
   ]
  },
  {
   "cell_type": "code",
   "execution_count": 69,
   "metadata": {},
   "outputs": [
    {
     "data": {
      "text/plain": [
       "2.718281828459045"
      ]
     },
     "execution_count": 69,
     "metadata": {},
     "output_type": "execute_result"
    }
   ],
   "source": [
    "math.exp(1)"
   ]
  },
  {
   "cell_type": "code",
   "execution_count": 70,
   "metadata": {},
   "outputs": [
    {
     "data": {
      "text/plain": [
       "0.999999327347282"
      ]
     },
     "execution_count": 70,
     "metadata": {},
     "output_type": "execute_result"
    }
   ],
   "source": [
    "math.log(2.71828)"
   ]
  },
  {
   "cell_type": "code",
   "execution_count": 71,
   "metadata": {},
   "outputs": [
    {
     "name": "stdout",
     "output_type": "stream",
     "text": [
      "1.00\n"
     ]
    }
   ],
   "source": [
    "print('%.2f'%math.log(2.71828))"
   ]
  },
  {
   "cell_type": "code",
   "execution_count": 72,
   "metadata": {},
   "outputs": [
    {
     "data": {
      "text/plain": [
       "2.9999999999999996"
      ]
     },
     "execution_count": 72,
     "metadata": {},
     "output_type": "execute_result"
    }
   ],
   "source": [
    "math.log(1000,10)"
   ]
  },
  {
   "cell_type": "code",
   "execution_count": 73,
   "metadata": {},
   "outputs": [
    {
     "data": {
      "text/plain": [
       "10.0"
      ]
     },
     "execution_count": 73,
     "metadata": {},
     "output_type": "execute_result"
    }
   ],
   "source": [
    "math.sqrt(100)"
   ]
  },
  {
   "cell_type": "code",
   "execution_count": 74,
   "metadata": {},
   "outputs": [
    {
     "data": {
      "text/plain": [
       "0.0"
      ]
     },
     "execution_count": 74,
     "metadata": {},
     "output_type": "execute_result"
    }
   ],
   "source": [
    "math.sin(0)"
   ]
  },
  {
   "cell_type": "code",
   "execution_count": 75,
   "metadata": {},
   "outputs": [
    {
     "data": {
      "text/plain": [
       "1.0"
      ]
     },
     "execution_count": 75,
     "metadata": {},
     "output_type": "execute_result"
    }
   ],
   "source": [
    "math.sin(1/2*math.pi)"
   ]
  },
  {
   "cell_type": "code",
   "execution_count": 76,
   "metadata": {},
   "outputs": [
    {
     "data": {
      "text/plain": [
       "1.2246467991473532e-16"
      ]
     },
     "execution_count": 76,
     "metadata": {},
     "output_type": "execute_result"
    }
   ],
   "source": [
    "math.sin(math.pi)"
   ]
  },
  {
   "cell_type": "code",
   "execution_count": 77,
   "metadata": {},
   "outputs": [
    {
     "data": {
      "text/plain": [
       "-1.0"
      ]
     },
     "execution_count": 77,
     "metadata": {},
     "output_type": "execute_result"
    }
   ],
   "source": [
    "math.sin(3/2*math.pi)"
   ]
  },
  {
   "cell_type": "code",
   "execution_count": 78,
   "metadata": {},
   "outputs": [
    {
     "data": {
      "text/plain": [
       "-2.4492935982947064e-16"
      ]
     },
     "execution_count": 78,
     "metadata": {},
     "output_type": "execute_result"
    }
   ],
   "source": [
    "math.sin(2*math.pi)"
   ]
  },
  {
   "cell_type": "code",
   "execution_count": 81,
   "metadata": {},
   "outputs": [
    {
     "data": {
      "text/plain": [
       "1.0"
      ]
     },
     "execution_count": 81,
     "metadata": {},
     "output_type": "execute_result"
    }
   ],
   "source": [
    "math.cos(0)"
   ]
  },
  {
   "cell_type": "code",
   "execution_count": 82,
   "metadata": {},
   "outputs": [
    {
     "data": {
      "text/plain": [
       "6.123233995736766e-17"
      ]
     },
     "execution_count": 82,
     "metadata": {},
     "output_type": "execute_result"
    }
   ],
   "source": [
    "math.cos(1/2*math.pi)"
   ]
  },
  {
   "cell_type": "code",
   "execution_count": 83,
   "metadata": {},
   "outputs": [
    {
     "data": {
      "text/plain": [
       "-1.0"
      ]
     },
     "execution_count": 83,
     "metadata": {},
     "output_type": "execute_result"
    }
   ],
   "source": [
    "math.cos(math.pi)"
   ]
  },
  {
   "cell_type": "code",
   "execution_count": 84,
   "metadata": {},
   "outputs": [
    {
     "data": {
      "text/plain": [
       "-1.8369701987210297e-16"
      ]
     },
     "execution_count": 84,
     "metadata": {},
     "output_type": "execute_result"
    }
   ],
   "source": [
    "math.cos(3/2*math.pi)"
   ]
  },
  {
   "cell_type": "code",
   "execution_count": 85,
   "metadata": {},
   "outputs": [
    {
     "data": {
      "text/plain": [
       "1.0"
      ]
     },
     "execution_count": 85,
     "metadata": {},
     "output_type": "execute_result"
    }
   ],
   "source": [
    "math.cos(2*math.pi)"
   ]
  },
  {
   "cell_type": "code",
   "execution_count": 86,
   "metadata": {},
   "outputs": [
    {
     "data": {
      "text/plain": [
       "0.0"
      ]
     },
     "execution_count": 86,
     "metadata": {},
     "output_type": "execute_result"
    }
   ],
   "source": [
    "math.tan(0)"
   ]
  },
  {
   "cell_type": "code",
   "execution_count": 87,
   "metadata": {},
   "outputs": [
    {
     "data": {
      "text/plain": [
       "0.9999999999999999"
      ]
     },
     "execution_count": 87,
     "metadata": {},
     "output_type": "execute_result"
    }
   ],
   "source": [
    "math.tan(1/4*math.pi)"
   ]
  },
  {
   "cell_type": "code",
   "execution_count": 88,
   "metadata": {},
   "outputs": [
    {
     "data": {
      "text/plain": [
       "0.9999999999999997"
      ]
     },
     "execution_count": 88,
     "metadata": {},
     "output_type": "execute_result"
    }
   ],
   "source": [
    "math.tan(5/4*math.pi)"
   ]
  },
  {
   "cell_type": "code",
   "execution_count": 89,
   "metadata": {},
   "outputs": [
    {
     "data": {
      "text/plain": [
       "-0.9999999999999999"
      ]
     },
     "execution_count": 89,
     "metadata": {},
     "output_type": "execute_result"
    }
   ],
   "source": [
    "math.tan(-1/4*math.pi)"
   ]
  },
  {
   "cell_type": "code",
   "execution_count": 90,
   "metadata": {},
   "outputs": [
    {
     "data": {
      "text/plain": [
       "-1.0000000000000002"
      ]
     },
     "execution_count": 90,
     "metadata": {},
     "output_type": "execute_result"
    }
   ],
   "source": [
    "math.tan(3/4*math.pi)"
   ]
  },
  {
   "cell_type": "code",
   "execution_count": 92,
   "metadata": {},
   "outputs": [
    {
     "data": {
      "text/plain": [
       "-1.2246467991473532e-16"
      ]
     },
     "execution_count": 92,
     "metadata": {},
     "output_type": "execute_result"
    }
   ],
   "source": [
    "math.tan(math.pi)"
   ]
  },
  {
   "cell_type": "code",
   "execution_count": 93,
   "metadata": {},
   "outputs": [
    {
     "data": {
      "text/plain": [
       "0.0"
      ]
     },
     "execution_count": 93,
     "metadata": {},
     "output_type": "execute_result"
    }
   ],
   "source": [
    "math.tan(0)"
   ]
  },
  {
   "cell_type": "code",
   "execution_count": 94,
   "metadata": {},
   "outputs": [
    {
     "data": {
      "text/plain": [
       "1.5707963267948966"
      ]
     },
     "execution_count": 94,
     "metadata": {},
     "output_type": "execute_result"
    }
   ],
   "source": [
    "math.radians(90)"
   ]
  },
  {
   "cell_type": "code",
   "execution_count": 95,
   "metadata": {},
   "outputs": [
    {
     "data": {
      "text/plain": [
       "3.141592653589793"
      ]
     },
     "execution_count": 95,
     "metadata": {},
     "output_type": "execute_result"
    }
   ],
   "source": [
    "math.radians(180)"
   ]
  },
  {
   "cell_type": "code",
   "execution_count": 96,
   "metadata": {},
   "outputs": [
    {
     "data": {
      "text/plain": [
       "90.0"
      ]
     },
     "execution_count": 96,
     "metadata": {},
     "output_type": "execute_result"
    }
   ],
   "source": [
    "math.degrees(1/2*math.pi)"
   ]
  },
  {
   "cell_type": "code",
   "execution_count": 97,
   "metadata": {},
   "outputs": [
    {
     "data": {
      "text/plain": [
       "180.0"
      ]
     },
     "execution_count": 97,
     "metadata": {},
     "output_type": "execute_result"
    }
   ],
   "source": [
    "math.degrees(math.pi)"
   ]
  },
  {
   "cell_type": "code",
   "execution_count": 99,
   "metadata": {},
   "outputs": [
    {
     "name": "stdout",
     "output_type": "stream",
     "text": [
      "Enter the length of side:6.5\n",
      "72.69017017488386\n"
     ]
    }
   ],
   "source": [
    "import math\n",
    "side = eval(input('Enter the length of side:'))\n",
    "area = (5*side*side)/(4*math.tan(math.pi/5))\n",
    "print(area)"
   ]
  },
  {
   "cell_type": "code",
   "execution_count": 104,
   "metadata": {},
   "outputs": [
    {
     "name": "stdout",
     "output_type": "stream",
     "text": [
      "Enter three numbers:10,20,30\n",
      "variance is 66.67,and standand deviation is 8.16\n"
     ]
    }
   ],
   "source": [
    "import math\n",
    "n1,n2,n3=eval(input('Enter three numbers:'))\n",
    "mean=(n1+n2+n3)/3\n",
    "variance=(pow((n1-mean),2)+pow((n2-mean),2)+pow((n3-mean),2))/3\n",
    "sd=math.sqrt(variance)\n",
    "print('variance is %.2f,and standand deviation is %.2f'%(variance,sd))"
   ]
  },
  {
   "cell_type": "code",
   "execution_count": 103,
   "metadata": {},
   "outputs": [
    {
     "name": "stdout",
     "output_type": "stream",
     "text": [
      "Enter three numbers:5,6,7\n",
      "variance is 0.67,and standand deviation is 0.82\n"
     ]
    }
   ],
   "source": [
    "import math\n",
    "n1,n2,n3=eval(input('Enter three numbers:'))\n",
    "mean=(n1+n2+n3)/3\n",
    "variance=(pow((n1-mean),2)+pow((n2-mean),2)+pow((n3-mean),2))/3\n",
    "sd=math.sqrt(variance)\n",
    "print('variance is %.2f,and standand deviation is %.2f'%(variance,sd))"
   ]
  },
  {
   "cell_type": "code",
   "execution_count": 132,
   "metadata": {},
   "outputs": [
    {
     "ename": "TypeError",
     "evalue": "'str' object is not callable",
     "output_type": "error",
     "traceback": [
      "\u001b[1;31m---------------------------------------------------------------------------\u001b[0m",
      "\u001b[1;31mTypeError\u001b[0m                                 Traceback (most recent call last)",
      "\u001b[1;32m<ipython-input-132-7be4b0b04769>\u001b[0m in \u001b[0;36m<module>\u001b[1;34m\u001b[0m\n\u001b[1;32m----> 1\u001b[1;33m \u001b[0mstr\u001b[0m\u001b[1;33m(\u001b[0m\u001b[1;36m12.3\u001b[0m\u001b[1;33m)\u001b[0m\u001b[1;33m\u001b[0m\u001b[1;33m\u001b[0m\u001b[0m\n\u001b[0m",
      "\u001b[1;31mTypeError\u001b[0m: 'str' object is not callable"
     ]
    }
   ],
   "source": [
    "str(12.3)"
   ]
  },
  {
   "cell_type": "code",
   "execution_count": 113,
   "metadata": {},
   "outputs": [
    {
     "ename": "SyntaxError",
     "evalue": "invalid syntax (<ipython-input-113-566173be8c82>, line 1)",
     "output_type": "error",
     "traceback": [
      "\u001b[1;36m  File \u001b[1;32m\"<ipython-input-113-566173be8c82>\"\u001b[1;36m, line \u001b[1;32m1\u001b[0m\n\u001b[1;33m    >>>str(12)\u001b[0m\n\u001b[1;37m    ^\u001b[0m\n\u001b[1;31mSyntaxError\u001b[0m\u001b[1;31m:\u001b[0m invalid syntax\n"
     ]
    }
   ],
   "source": [
    "str(12)"
   ]
  },
  {
   "cell_type": "code",
   "execution_count": 112,
   "metadata": {},
   "outputs": [
    {
     "data": {
      "text/plain": [
       "65"
      ]
     },
     "execution_count": 112,
     "metadata": {},
     "output_type": "execute_result"
    }
   ],
   "source": [
    "ord('A')"
   ]
  },
  {
   "cell_type": "code",
   "execution_count": 114,
   "metadata": {},
   "outputs": [
    {
     "data": {
      "text/plain": [
       "97"
      ]
     },
     "execution_count": 114,
     "metadata": {},
     "output_type": "execute_result"
    }
   ],
   "source": [
    "ord('a')"
   ]
  },
  {
   "cell_type": "code",
   "execution_count": 115,
   "metadata": {},
   "outputs": [
    {
     "data": {
      "text/plain": [
       "'A'"
      ]
     },
     "execution_count": 115,
     "metadata": {},
     "output_type": "execute_result"
    }
   ],
   "source": [
    "chr(65)"
   ]
  },
  {
   "cell_type": "code",
   "execution_count": 116,
   "metadata": {},
   "outputs": [
    {
     "data": {
      "text/plain": [
       "'a'"
      ]
     },
     "execution_count": 116,
     "metadata": {},
     "output_type": "execute_result"
    }
   ],
   "source": [
    "chr(97)"
   ]
  },
  {
   "cell_type": "code",
   "execution_count": 119,
   "metadata": {},
   "outputs": [
    {
     "name": "stdout",
     "output_type": "stream",
     "text": [
      "888\n",
      "100\n",
      "-888\n",
      "100\n",
      "8\n",
      "6\n",
      "123\n",
      "123.46\n"
     ]
    }
   ],
   "source": [
    "a=-888\n",
    "b=100\n",
    "c=10\n",
    "d=2\n",
    "e=0.5\n",
    "print(abs(a))\n",
    "print(max(a,b,c,d,e))\n",
    "print(min(a,b,c,d,e))\n",
    "print(pow(c,d))\n",
    "print(round(7.5))\n",
    "print(round(6.5))\n",
    "print(int(123.456))\n",
    "print(round(123.456,2))"
   ]
  },
  {
   "cell_type": "code",
   "execution_count": 125,
   "metadata": {},
   "outputs": [
    {
     "name": "stdout",
     "output_type": "stream",
     "text": [
      "123.45\n",
      "9\n",
      "8\n",
      "2.718281828459045\n",
      "4.605170185988092\n",
      "2.0\n",
      "1000.0\n"
     ]
    }
   ],
   "source": [
    "import math\n",
    "a=math.fabs(-123.45)\n",
    "print(a)\n",
    "\n",
    "b=math.ceil(8.8)\n",
    "print(b)\n",
    "\n",
    "c=math.floor(8.8)\n",
    "print(c)\n",
    "\n",
    "d=math.exp(1)\n",
    "print(d)\n",
    "\n",
    "e=math.log(100)\n",
    "print(e)\n",
    "\n",
    "f=math.log(100,10)\n",
    "print(f)\n",
    "\n",
    "g=math.sqrt(1000000)\n",
    "print(g)"
   ]
  },
  {
   "cell_type": "code",
   "execution_count": 126,
   "metadata": {},
   "outputs": [
    {
     "name": "stdout",
     "output_type": "stream",
     "text": [
      "0.0\n",
      "-2.4492935982947064e-16\n",
      "360.0\n",
      "6.283185307179586\n"
     ]
    }
   ],
   "source": [
    "m=math.tan(0)\n",
    "print(m)\n",
    "\n",
    "n=math.tan(2*math.pi)\n",
    "print(n)\n",
    "\n",
    "p=math.degrees(2*math.pi)\n",
    "print(p)\n",
    "\n",
    "q=math.radians(360)\n",
    "print(q)"
   ]
  },
  {
   "cell_type": "code",
   "execution_count": 127,
   "metadata": {},
   "outputs": [
    {
     "ename": "TypeError",
     "evalue": "'str' object is not callable",
     "output_type": "error",
     "traceback": [
      "\u001b[1;31m---------------------------------------------------------------------------\u001b[0m",
      "\u001b[1;31mTypeError\u001b[0m                                 Traceback (most recent call last)",
      "\u001b[1;32m<ipython-input-127-3058cf8a4bec>\u001b[0m in \u001b[0;36m<module>\u001b[1;34m\u001b[0m\n\u001b[1;32m----> 1\u001b[1;33m \u001b[0mx\u001b[0m\u001b[1;33m=\u001b[0m\u001b[1;34m'Apple i'\u001b[0m\u001b[1;33m+\u001b[0m\u001b[0mstr\u001b[0m\u001b[1;33m(\u001b[0m\u001b[1;36m8\u001b[0m\u001b[1;33m)\u001b[0m\u001b[1;33m\u001b[0m\u001b[1;33m\u001b[0m\u001b[0m\n\u001b[0m\u001b[0;32m      2\u001b[0m \u001b[0mprint\u001b[0m\u001b[1;33m(\u001b[0m\u001b[0mx\u001b[0m\u001b[1;33m)\u001b[0m\u001b[1;33m\u001b[0m\u001b[1;33m\u001b[0m\u001b[0m\n\u001b[0;32m      3\u001b[0m \u001b[1;33m\u001b[0m\u001b[0m\n\u001b[0;32m      4\u001b[0m \u001b[0my\u001b[0m\u001b[1;33m=\u001b[0m\u001b[0mord\u001b[0m\u001b[1;33m(\u001b[0m\u001b[1;34m'Z'\u001b[0m\u001b[1;33m)\u001b[0m\u001b[1;33m\u001b[0m\u001b[1;33m\u001b[0m\u001b[0m\n\u001b[0;32m      5\u001b[0m \u001b[0mprint\u001b[0m\u001b[1;33m(\u001b[0m\u001b[0my\u001b[0m\u001b[1;33m)\u001b[0m\u001b[1;33m\u001b[0m\u001b[1;33m\u001b[0m\u001b[0m\n",
      "\u001b[1;31mTypeError\u001b[0m: 'str' object is not callable"
     ]
    }
   ],
   "source": [
    "x='Apple i'+str(8)\n",
    "print(x)\n",
    "\n",
    "y=ord('Z')\n",
    "print(y)\n",
    "\n",
    "z=chr(100)\n",
    "print(z)"
   ]
  },
  {
   "cell_type": "code",
   "execution_count": 141,
   "metadata": {},
   "outputs": [
    {
     "name": "stdout",
     "output_type": "stream",
     "text": [
      "Enter two numbers:5,6.5\n",
      "72.69017017488386\n"
     ]
    }
   ],
   "source": [
    "import math\n",
    "n,s=eval(input('Enter two numbers:'))\n",
    "area=(n*pow(s,2))/(4*math.tan(math.pi/n))\n",
    "print(area)"
   ]
  },
  {
   "cell_type": "code",
   "execution_count": 145,
   "metadata": {},
   "outputs": [
    {
     "name": "stdout",
     "output_type": "stream",
     "text": [
      "Enter x1,y1,x2,y2 is 2,1,5.5,8\n",
      "7.826237921249264\n"
     ]
    }
   ],
   "source": [
    "import math\n",
    "x1,y1,x2,y2=eval(input('Enter x1,y1,x2,y2 is '))\n",
    "Distance=math.sqrt(math.pow(x1-x2,2)+math.pow(y1-y2,2))\n",
    "print(Distance)"
   ]
  },
  {
   "cell_type": "code",
   "execution_count": 146,
   "metadata": {},
   "outputs": [
    {
     "name": "stdout",
     "output_type": "stream",
     "text": [
      "X=70\n"
     ]
    }
   ],
   "source": [
    "X=65\n",
    "if X>60:\n",
    "    X=X+5\n",
    "print('X=%d'%(X))"
   ]
  },
  {
   "cell_type": "code",
   "execution_count": 150,
   "metadata": {},
   "outputs": [
    {
     "name": "stdout",
     "output_type": "stream",
     "text": [
      "Please input numerator:125\n",
      "Please input denominator:25\n",
      "125 / 25 = 5.0\n",
      "Over\n"
     ]
    }
   ],
   "source": [
    "numerator=eval(input('Please input numerator:'))\n",
    "denominator=eval(input('Please input denominator:'))\n",
    "if denominator!=0:\n",
    "    ans=numerator/denominator\n",
    "    print(numerator,'/',denominator,'=',ans)\n",
    "print('Over')"
   ]
  },
  {
   "cell_type": "code",
   "execution_count": 154,
   "metadata": {},
   "outputs": [
    {
     "name": "stdout",
     "output_type": "stream",
     "text": [
      "Please input a number:5\n",
      "5 is 5's multple\n",
      "Over\n"
     ]
    }
   ],
   "source": [
    "number=eval(input('Please input a number:'))\n",
    "if number % 5 == 0:\n",
    "    print(number,\"is 5's multple\")\n",
    "print('Over')"
   ]
  },
  {
   "cell_type": "code",
   "execution_count": 155,
   "metadata": {},
   "outputs": [
    {
     "name": "stdout",
     "output_type": "stream",
     "text": [
      "Please input numerator:125\n",
      "Please input denominator:25\n",
      "125 / 25 = 5.0\n",
      "Over\n"
     ]
    }
   ],
   "source": [
    "numerator=eval(input('Please input numerator:'))\n",
    "denominator=eval(input('Please input denominator:'))\n",
    "if denominator!=0:\n",
    "    ans=numerator/denominator\n",
    "    print(numerator,'/',denominator,'=',ans)\n",
    "else:\n",
    "    print(\"Denominator is invalid\")\n",
    "print('Over') "
   ]
  },
  {
   "cell_type": "code",
   "execution_count": 156,
   "metadata": {},
   "outputs": [
    {
     "name": "stdout",
     "output_type": "stream",
     "text": [
      "Please input numerator:125\n",
      "Please input denominator:0\n",
      "Denominator is invalid\n",
      "Over\n"
     ]
    }
   ],
   "source": [
    "numerator=eval(input('Please input numerator:'))\n",
    "denominator=eval(input('Please input denominator:'))\n",
    "if denominator!=0:\n",
    "    ans=numerator/denominator\n",
    "    print(numerator,'/',denominator,'=',ans)\n",
    "else:\n",
    "    print(\"Denominator is invalid\")\n",
    "print('Over') "
   ]
  },
  {
   "cell_type": "code",
   "execution_count": 157,
   "metadata": {},
   "outputs": [
    {
     "name": "stdout",
     "output_type": "stream",
     "text": [
      "Please input a number:88\n",
      "88 is an even number.\n",
      "Over\n"
     ]
    }
   ],
   "source": [
    "num=eval(input('Please input a number:'))\n",
    "if num % 2 == 0:\n",
    "    print(num,\"is an even number.\")\n",
    "else:\n",
    "    print(num,\"is a odd number.\")\n",
    "print('Over')   "
   ]
  },
  {
   "cell_type": "code",
   "execution_count": 158,
   "metadata": {},
   "outputs": [
    {
     "name": "stdout",
     "output_type": "stream",
     "text": [
      "Please input a number:89\n",
      "89 is a odd number.\n",
      "Over\n"
     ]
    }
   ],
   "source": [
    "num=eval(input('Please input a number:'))\n",
    "if num % 2 == 0:\n",
    "    print(num,\"is an even number.\")\n",
    "else:\n",
    "    print(num,\"is a odd number.\")\n",
    "print('Over')   "
   ]
  },
  {
   "cell_type": "code",
   "execution_count": 161,
   "metadata": {},
   "outputs": [
    {
     "name": "stdout",
     "output_type": "stream",
     "text": [
      "Please input a number:20\n",
      "20 is greater than 0\n",
      "Over\n"
     ]
    }
   ],
   "source": [
    "number=eval(input('Please input a number:'))\n",
    "if number>0:\n",
    "    print(number,'is greater than 0')\n",
    "else:\n",
    "    if number<0:\n",
    "        print(number,'is less than 0')\n",
    "    else:\n",
    "        print(number,'is equal to 0')\n",
    "print('Over')"
   ]
  },
  {
   "cell_type": "code",
   "execution_count": 162,
   "metadata": {},
   "outputs": [
    {
     "name": "stdout",
     "output_type": "stream",
     "text": [
      "Please input a number:-10\n",
      "-10 is less than 0\n",
      "Over\n"
     ]
    }
   ],
   "source": [
    "number=eval(input('Please input a number:'))\n",
    "if number>0:\n",
    "    print(number,'is greater than 0')\n",
    "else:\n",
    "    if number<0:\n",
    "        print(number,'is less than 0')\n",
    "    else:\n",
    "        print(number,'is equal to 0')\n",
    "print('Over')"
   ]
  },
  {
   "cell_type": "code",
   "execution_count": 163,
   "metadata": {},
   "outputs": [
    {
     "name": "stdout",
     "output_type": "stream",
     "text": [
      "Please input a number:0\n",
      "0 is equal to 0\n",
      "Over\n"
     ]
    }
   ],
   "source": [
    "number=eval(input('Please input a number:'))\n",
    "if number>0:\n",
    "    print(number,'is greater than 0')\n",
    "else:\n",
    "    if number>0:\n",
    "        print(number,'is less than 0')\n",
    "    else:\n",
    "        print(number,'is equal to 0')\n",
    "print('Over')"
   ]
  },
  {
   "cell_type": "code",
   "execution_count": 164,
   "metadata": {},
   "outputs": [
    {
     "name": "stdout",
     "output_type": "stream",
     "text": [
      "Please input a number:20\n",
      "20 is greater than 0\n",
      "Over\n"
     ]
    }
   ],
   "source": [
    "number=eval(input('Please input a number:'))\n",
    "if number>0:\n",
    "    print(number,'is greater than 0')\n",
    "elif number>0:\n",
    "    print(number,'is less than 0')\n",
    "else:\n",
    "    print(number,'is equal to 0')\n",
    "print('Over')"
   ]
  },
  {
   "cell_type": "code",
   "execution_count": 166,
   "metadata": {},
   "outputs": [
    {
     "name": "stdout",
     "output_type": "stream",
     "text": [
      "Please input your score:86\n",
      "Grade A\n"
     ]
    }
   ],
   "source": [
    "score=eval(input('Please input your score:'))\n",
    "if score >= 80:\n",
    "    print('Grade A')\n",
    "elif score <=70:\n",
    "    print('Grade B')\n",
    "elif score >=60:\n",
    "    print('Grade C')\n",
    "elif score >=50:\n",
    "    print('Grade D')\n",
    "else:\n",
    "    print('Grade E')   "
   ]
  },
  {
   "cell_type": "code",
   "execution_count": 167,
   "metadata": {},
   "outputs": [
    {
     "name": "stdout",
     "output_type": "stream",
     "text": [
      "Please input your score:62\n",
      "Grade B\n"
     ]
    }
   ],
   "source": [
    "score=eval(input('Please input your score:'))\n",
    "if score >= 80:\n",
    "    print('Grade A')\n",
    "elif score <=70:\n",
    "    print('Grade B')\n",
    "elif score >=60:\n",
    "    print('Grade C')\n",
    "elif score >=50:\n",
    "    print('Grade D')\n",
    "else:\n",
    "    print('Grade E')   "
   ]
  },
  {
   "cell_type": "code",
   "execution_count": 168,
   "metadata": {},
   "outputs": [
    {
     "name": "stdout",
     "output_type": "stream",
     "text": [
      "Please input your weight(kilogram):70\n",
      "Please input your height(centimeter):167\n",
      "Your BMI is 25.10\n",
      "Obese\n"
     ]
    }
   ],
   "source": [
    "weight=eval(input('Please input your weight(kilogram):'))\n",
    "height=eval(input('Please input your height(centimeter):'))\n",
    "heightinMeters=height/100\n",
    "\n",
    "bmi=weight/(heightinMeters*heightinMeters)\n",
    "print('Your BMI is',format(bmi,'.2f'))\n",
    "\n",
    "if bmi<18.5:\n",
    "    print('Underweight')\n",
    "elif bmi<25:\n",
    "    print('Normal')\n",
    "else:\n",
    "    print('Obese')"
   ]
  },
  {
   "cell_type": "code",
   "execution_count": 169,
   "metadata": {},
   "outputs": [
    {
     "name": "stdout",
     "output_type": "stream",
     "text": [
      "Please input your weight(kilogram):60\n",
      "Please input your height(centimeter):167\n",
      "Your BMI is 21.51\n",
      "Normal\n"
     ]
    }
   ],
   "source": [
    "weight=eval(input('Please input your weight(kilogram):'))\n",
    "height=eval(input('Please input your height(centimeter):'))\n",
    "heightinMeters=height/100\n",
    "\n",
    "bmi=weight/(heightinMeters*heightinMeters)\n",
    "print('Your BMI is',format(bmi,'.2f'))\n",
    "\n",
    "if bmi<18.5:\n",
    "    print('Underweight')\n",
    "elif bmi<25:\n",
    "    print('Normal')\n",
    "else:\n",
    "    print('Obese')"
   ]
  },
  {
   "cell_type": "code",
   "execution_count": 172,
   "metadata": {},
   "outputs": [
    {
     "name": "stdout",
     "output_type": "stream",
     "text": [
      "Please enter which year?1997\n",
      "1997 is not leap year\n"
     ]
    }
   ],
   "source": [
    "year=eval(input('Please enter which year?'))\n",
    "if year %400==0 or (year %4==0 and year %100!=0):\n",
    "    print(year,'is leap year')\n",
    "else:\n",
    "    print(year,'is not leap year')"
   ]
  },
  {
   "cell_type": "code",
   "execution_count": 173,
   "metadata": {},
   "outputs": [
    {
     "name": "stdout",
     "output_type": "stream",
     "text": [
      "Please enter which year?1976\n",
      "1976 is leap year\n"
     ]
    }
   ],
   "source": [
    "year=eval(input('Please enter which year?'))\n",
    "if year %400==0 or (year %4==0 and year %100!=0):\n",
    "    print(year,'is leap year')\n",
    "else:\n",
    "    print(year,'is not leap year')"
   ]
  },
  {
   "cell_type": "code",
   "execution_count": 174,
   "metadata": {},
   "outputs": [
    {
     "name": "stdout",
     "output_type": "stream",
     "text": [
      "Please enter a number:-100\n",
      "100\n"
     ]
    }
   ],
   "source": [
    "number=eval(input('Please enter a number:'))\n",
    "\n",
    "if number>=0:\n",
    "    print(number)\n",
    "else:\n",
    "    print(-number)"
   ]
  },
  {
   "cell_type": "code",
   "execution_count": 175,
   "metadata": {},
   "outputs": [
    {
     "name": "stdout",
     "output_type": "stream",
     "text": [
      "Please enter a number:100\n",
      "100\n"
     ]
    }
   ],
   "source": [
    "number=eval(input('Please enter a number:'))\n",
    "\n",
    "if number>=0:\n",
    "    print(number)\n",
    "else:\n",
    "    print(-number)"
   ]
  },
  {
   "cell_type": "code",
   "execution_count": 176,
   "metadata": {},
   "outputs": [
    {
     "name": "stdout",
     "output_type": "stream",
     "text": [
      "Enter your score:90\n",
      "you pass\n"
     ]
    }
   ],
   "source": [
    "score=eval(input('Enter your score:'))\n",
    "if score>=60:\n",
    "    print('you pass')\n",
    "else:\n",
    "    print('you fail')"
   ]
  },
  {
   "cell_type": "code",
   "execution_count": 177,
   "metadata": {},
   "outputs": [
    {
     "name": "stdout",
     "output_type": "stream",
     "text": [
      "Enter your score:50\n",
      "you fail\n"
     ]
    }
   ],
   "source": [
    "score=eval(input('Enter your score:'))\n",
    "if score>=60:\n",
    "    print('you pass')\n",
    "else:\n",
    "    print('you fail')"
   ]
  },
  {
   "cell_type": "code",
   "execution_count": 178,
   "metadata": {},
   "outputs": [
    {
     "name": "stdout",
     "output_type": "stream",
     "text": [
      "Enter n1:88\n",
      "Enter n2:66\n",
      "Enter an arithmetic operator(+,-,*,/):*\n",
      "88.0000*66.0000=5808.0000\n"
     ]
    }
   ],
   "source": [
    "n1=eval(input('Enter n1:'))\n",
    "n2=eval(input('Enter n2:'))\n",
    "\n",
    "operator=input('Enter an arithmetic operator(+,-,*,/):')\n",
    "result=0\n",
    "if operator =='+':\n",
    "    result=n1+n2\n",
    "elif operator =='-':\n",
    "    result=n1-n2\n",
    "elif operator =='*':\n",
    "    result=n1*n2\n",
    "elif operator =='/':\n",
    "    result=n1/n2\n",
    "    \n",
    "print('%.4f%c%.4f=%.4f'%(n1,operator,n2,result))"
   ]
  },
  {
   "cell_type": "code",
   "execution_count": 180,
   "metadata": {},
   "outputs": [
    {
     "name": "stdout",
     "output_type": "stream",
     "text": [
      "請輸入年齡:18\n",
      "您的年齡屬於少年\n"
     ]
    }
   ],
   "source": [
    "age=eval(input('請輸入年齡:'))\n",
    "state=''\n",
    "\n",
    "if age <6:\n",
    "    state='童年'\n",
    "elif age>=7 and age >=17:\n",
    "    state='少年'\n",
    "elif age >=18 and age<=40:\n",
    "    state='青年'\n",
    "elif age >=41 and age <=65:\n",
    "    state='中年'\n",
    "else:\n",
    "    state='老年'\n",
    "    \n",
    "print('您的年齡屬於%s'%state)"
   ]
  },
  {
   "cell_type": "code",
   "execution_count": 182,
   "metadata": {},
   "outputs": [
    {
     "name": "stdout",
     "output_type": "stream",
     "text": [
      "請輸入年齡:45\n",
      "您的年齡屬於中年\n"
     ]
    }
   ],
   "source": [
    "age=eval(input('請輸入年齡:'))\n",
    "state=''\n",
    "\n",
    "if age <6:\n",
    "    state='童年'\n",
    "elif age>=7 and age <=17:\n",
    "    state='少年'\n",
    "elif age >=18 and age<=40:\n",
    "    state='青年'\n",
    "elif age >=41 and age <=65:\n",
    "    state='中年'\n",
    "else:\n",
    "    state='老年'\n",
    "    \n",
    "print('您的年齡屬於%s'%state)"
   ]
  },
  {
   "cell_type": "code",
   "execution_count": 1,
   "metadata": {},
   "outputs": [
    {
     "name": "stdout",
     "output_type": "stream",
     "text": [
      "is your birthday in set?\n",
      "1   3   5   7\n",
      "9  11  13  15\n",
      "17 19  21  23\n",
      "25 27  29  31\n",
      "\n",
      "Enter 1 for Yes and 0 for No:1\n",
      "is your birthday in set?\n",
      "2   4   6   8\n",
      "10  12  14  16\n",
      "18  20  22  24\n",
      "26  28  30  31\n",
      "\n",
      "Enter 1 for Yes and 0 for No:0\n",
      "is your birthday in set?\n",
      "4   5   6   7\n",
      "12  13  14  15\n",
      "20  21  22  23\n",
      "28  29  30  31\n",
      "\n",
      "Enter 1 for Yes and 0 for No:1\n",
      "is your birthday in set?\n",
      "8   9   10  11\n",
      "12  13  14  15\n",
      "24  25  26  27\n",
      "28  29  30  31\n",
      "\n",
      "Enter 1 for Yes and 0 for No:1\n",
      "is your birthday in set?\n",
      "16  17  18  19\n",
      "20  21  22  23\n",
      "24  25  26  27\n",
      "28  29  30  31\n",
      "\n",
      "Enter 1 for Yes and 0 for No:0\n",
      "Your birthday is 13\n"
     ]
    }
   ],
   "source": [
    "day=0\n",
    "Q1='is your birthday in set?\\n'+\\\n",
    "    \"1   3   5   7\\n\"+\\\n",
    "    \"9  11  13  15\\n\"+\\\n",
    "    \"17 19  21  23\\n\"+\\\n",
    "    \"25 27  29  31\\n\"+\\\n",
    "    \"\\nEnter 1 for Yes and 0 for No:\"\n",
    "answer=eval(input(Q1))\n",
    "\n",
    "if answer==1:\n",
    "    day+=1\n",
    "    \n",
    "Q2='is your birthday in set?\\n'+\\\n",
    "    \"2   4   6   8\\n\"+\\\n",
    "    \"10  12  14  16\\n\"+\\\n",
    "    \"18  20  22  24\\n\"+\\\n",
    "    \"26  28  30  31\\n\"+\\\n",
    "    \"\\nEnter 1 for Yes and 0 for No:\"\n",
    "answer=eval(input(Q2))\n",
    "\n",
    "if answer==1:\n",
    "    day+=2\n",
    "    \n",
    "Q3='is your birthday in set?\\n'+\\\n",
    "    \"4   5   6   7\\n\"+\\\n",
    "    \"12  13  14  15\\n\"+\\\n",
    "    \"20  21  22  23\\n\"+\\\n",
    "    \"28  29  30  31\\n\"+\\\n",
    "    \"\\nEnter 1 for Yes and 0 for No:\"\n",
    "answer=eval(input(Q3))\n",
    "\n",
    "if answer==1:\n",
    "    day+=4\n",
    "    \n",
    "Q4='is your birthday in set?\\n'+\\\n",
    "    \"8   9   10  11\\n\"+\\\n",
    "    \"12  13  14  15\\n\"+\\\n",
    "    \"24  25  26  27\\n\"+\\\n",
    "    \"28  29  30  31\\n\"+\\\n",
    "    \"\\nEnter 1 for Yes and 0 for No:\"\n",
    "answer=eval(input(Q4))\n",
    "\n",
    "if answer==1:\n",
    "    day+=8\n",
    "    \n",
    "Q5='is your birthday in set?\\n'+\\\n",
    "    \"16  17  18  19\\n\"+\\\n",
    "    \"20  21  22  23\\n\"+\\\n",
    "    \"24  25  26  27\\n\"+\\\n",
    "    \"28  29  30  31\\n\"+\\\n",
    "    \"\\nEnter 1 for Yes and 0 for No:\"\n",
    "answer=eval(input(Q5))\n",
    "\n",
    "if answer==1:\n",
    "    day+=16\n",
    "    \n",
    "print('Your birthday is',day)"
   ]
  },
  {
   "cell_type": "code",
   "execution_count": 2,
   "metadata": {},
   "outputs": [
    {
     "name": "stdout",
     "output_type": "stream",
     "text": [
      "Learning Python is fun!\n",
      "Learning Python is fun!\n",
      "Learning Python is fun!\n",
      "Learning Python is fun!\n",
      "Learning Python is fun!\n",
      "Learning Python is fun!\n",
      "Learning Python is fun!\n",
      "Learning Python is fun!\n",
      "Learning Python is fun!\n",
      "Learning Python is fun!\n",
      "Learning Python is fun!\n",
      "Learning Python is fun!\n",
      "Learning Python is fun!\n",
      "Learning Python is fun!\n",
      "Learning Python is fun!\n",
      "Learning Python is fun!\n",
      "Learning Python is fun!\n",
      "Learning Python is fun!\n",
      "Learning Python is fun!\n",
      "Learning Python is fun!\n",
      "Learning Python is fun!\n",
      "Learning Python is fun!\n",
      "Learning Python is fun!\n",
      "Learning Python is fun!\n",
      "Learning Python is fun!\n",
      "Learning Python is fun!\n",
      "Learning Python is fun!\n",
      "Learning Python is fun!\n",
      "Learning Python is fun!\n",
      "Learning Python is fun!\n",
      "Learning Python is fun!\n",
      "Learning Python is fun!\n",
      "Learning Python is fun!\n",
      "Learning Python is fun!\n",
      "Learning Python is fun!\n",
      "Learning Python is fun!\n",
      "Learning Python is fun!\n",
      "Learning Python is fun!\n",
      "Learning Python is fun!\n",
      "Learning Python is fun!\n",
      "Learning Python is fun!\n",
      "Learning Python is fun!\n",
      "Learning Python is fun!\n",
      "Learning Python is fun!\n",
      "Learning Python is fun!\n",
      "Learning Python is fun!\n",
      "Learning Python is fun!\n",
      "Learning Python is fun!\n",
      "Learning Python is fun!\n",
      "Learning Python is fun!\n",
      "Learning Python is fun!\n",
      "Learning Python is fun!\n",
      "Learning Python is fun!\n",
      "Learning Python is fun!\n",
      "Learning Python is fun!\n",
      "Learning Python is fun!\n",
      "Learning Python is fun!\n",
      "Learning Python is fun!\n",
      "Learning Python is fun!\n",
      "Learning Python is fun!\n",
      "Learning Python is fun!\n",
      "Learning Python is fun!\n",
      "Learning Python is fun!\n",
      "Learning Python is fun!\n",
      "Learning Python is fun!\n",
      "Learning Python is fun!\n",
      "Learning Python is fun!\n",
      "Learning Python is fun!\n",
      "Learning Python is fun!\n",
      "Learning Python is fun!\n",
      "Learning Python is fun!\n",
      "Learning Python is fun!\n",
      "Learning Python is fun!\n",
      "Learning Python is fun!\n",
      "Learning Python is fun!\n",
      "Learning Python is fun!\n",
      "Learning Python is fun!\n",
      "Learning Python is fun!\n",
      "Learning Python is fun!\n",
      "Learning Python is fun!\n",
      "Learning Python is fun!\n",
      "Learning Python is fun!\n",
      "Learning Python is fun!\n",
      "Learning Python is fun!\n",
      "Learning Python is fun!\n",
      "Learning Python is fun!\n",
      "Learning Python is fun!\n",
      "Learning Python is fun!\n",
      "Learning Python is fun!\n",
      "Learning Python is fun!\n",
      "Learning Python is fun!\n",
      "Learning Python is fun!\n",
      "Learning Python is fun!\n",
      "Learning Python is fun!\n",
      "Learning Python is fun!\n",
      "Learning Python is fun!\n",
      "Learning Python is fun!\n",
      "Learning Python is fun!\n",
      "Learning Python is fun!\n",
      "Learning Python is fun!\n"
     ]
    }
   ],
   "source": [
    "count=1\n",
    "while count<=100:\n",
    "    print('Learning Python is fun!')\n",
    "    count=count+1"
   ]
  },
  {
   "cell_type": "code",
   "execution_count": 3,
   "metadata": {},
   "outputs": [
    {
     "name": "stdout",
     "output_type": "stream",
     "text": [
      "1+2+3+...+10= 55\n"
     ]
    }
   ],
   "source": [
    "total=0\n",
    "total=1+2+3+4+5+6+7+8+9+10\n",
    "print('1+2+3+...+10=',total)"
   ]
  },
  {
   "cell_type": "code",
   "execution_count": 4,
   "metadata": {},
   "outputs": [
    {
     "name": "stdout",
     "output_type": "stream",
     "text": [
      "1+2+3+...+100= 5050\n"
     ]
    }
   ],
   "source": [
    "total=0\n",
    "k=1\n",
    "while k <=100:\n",
    "    total=total+k\n",
    "    k=k+1\n",
    "print('1+2+3+...+100=',total)"
   ]
  },
  {
   "cell_type": "code",
   "execution_count": 5,
   "metadata": {},
   "outputs": [
    {
     "name": "stdout",
     "output_type": "stream",
     "text": [
      "2+4+6+...+100= 2550\n"
     ]
    }
   ],
   "source": [
    "evenTotal=0\n",
    "k=2\n",
    "while k<=100:\n",
    "    evenTotal= evenTotal+k\n",
    "    k=k+2\n",
    "print('2+4+6+...+100=', evenTotal)"
   ]
  },
  {
   "cell_type": "code",
   "execution_count": 8,
   "metadata": {},
   "outputs": [
    {
     "name": "stdout",
     "output_type": "stream",
     "text": [
      "55\n",
      "55\n"
     ]
    }
   ],
   "source": [
    "#while、for的互換\n",
    "count=1\n",
    "total=0\n",
    "while count<=10:\n",
    "    total=total+count\n",
    "    count=count+1\n",
    "print(total)\n",
    "\n",
    "\n",
    "total=0\n",
    "for count in range(1,11):\n",
    "    total=total+count\n",
    "print(total)"
   ]
  },
  {
   "cell_type": "code",
   "execution_count": 9,
   "metadata": {},
   "outputs": [
    {
     "name": "stdout",
     "output_type": "stream",
     "text": [
      "1\n",
      "2\n",
      "3\n",
      "4\n",
      "5\n"
     ]
    }
   ],
   "source": [
    "for k in range(1,6):\n",
    "    print(k)"
   ]
  },
  {
   "cell_type": "code",
   "execution_count": 11,
   "metadata": {},
   "outputs": [
    {
     "name": "stdout",
     "output_type": "stream",
     "text": [
      "0\n",
      "1\n",
      "2\n",
      "3\n",
      "4\n",
      "5\n"
     ]
    }
   ],
   "source": [
    "for k in range(6):\n",
    "    print(k)"
   ]
  },
  {
   "cell_type": "code",
   "execution_count": 12,
   "metadata": {},
   "outputs": [
    {
     "name": "stdout",
     "output_type": "stream",
     "text": [
      "1\n",
      "3\n",
      "5\n",
      "7\n",
      "9\n"
     ]
    }
   ],
   "source": [
    "for k in range(1,10,2):\n",
    "    print(k)"
   ]
  },
  {
   "cell_type": "code",
   "execution_count": 13,
   "metadata": {},
   "outputs": [
    {
     "name": "stdout",
     "output_type": "stream",
     "text": [
      "10\n",
      "9\n",
      "8\n",
      "7\n",
      "6\n",
      "5\n",
      "4\n",
      "3\n",
      "2\n"
     ]
    }
   ],
   "source": [
    "for k in range(10,1,-1):\n",
    "    print(k)"
   ]
  },
  {
   "cell_type": "code",
   "execution_count": 14,
   "metadata": {},
   "outputs": [
    {
     "name": "stdout",
     "output_type": "stream",
     "text": [
      "10\n",
      "8\n",
      "6\n",
      "4\n",
      "2\n"
     ]
    }
   ],
   "source": [
    "for k in range(10,1,-2):\n",
    "    print(k)"
   ]
  },
  {
   "cell_type": "code",
   "execution_count": 15,
   "metadata": {},
   "outputs": [
    {
     "name": "stdout",
     "output_type": "stream",
     "text": [
      "10\n",
      "8\n",
      "6\n",
      "4\n"
     ]
    }
   ],
   "source": [
    "for k in range(10,2,-2):\n",
    "    print(k)"
   ]
  },
  {
   "cell_type": "code",
   "execution_count": 16,
   "metadata": {},
   "outputs": [
    {
     "name": "stdout",
     "output_type": "stream",
     "text": [
      "Learning Python is fun\n",
      "Learning Python is fun\n",
      "Learning Python is fun\n",
      "Learning Python is fun\n",
      "Learning Python is fun\n",
      "Learning Python is fun\n",
      "Learning Python is fun\n",
      "Learning Python is fun\n",
      "Learning Python is fun\n",
      "Learning Python is fun\n",
      "Learning Python is fun\n",
      "Learning Python is fun\n",
      "Learning Python is fun\n",
      "Learning Python is fun\n",
      "Learning Python is fun\n",
      "Learning Python is fun\n",
      "Learning Python is fun\n",
      "Learning Python is fun\n",
      "Learning Python is fun\n",
      "Learning Python is fun\n",
      "Learning Python is fun\n",
      "Learning Python is fun\n",
      "Learning Python is fun\n",
      "Learning Python is fun\n",
      "Learning Python is fun\n",
      "Learning Python is fun\n",
      "Learning Python is fun\n",
      "Learning Python is fun\n",
      "Learning Python is fun\n",
      "Learning Python is fun\n",
      "Learning Python is fun\n",
      "Learning Python is fun\n",
      "Learning Python is fun\n",
      "Learning Python is fun\n",
      "Learning Python is fun\n",
      "Learning Python is fun\n",
      "Learning Python is fun\n",
      "Learning Python is fun\n",
      "Learning Python is fun\n",
      "Learning Python is fun\n",
      "Learning Python is fun\n",
      "Learning Python is fun\n",
      "Learning Python is fun\n",
      "Learning Python is fun\n",
      "Learning Python is fun\n",
      "Learning Python is fun\n",
      "Learning Python is fun\n",
      "Learning Python is fun\n",
      "Learning Python is fun\n",
      "Learning Python is fun\n",
      "Learning Python is fun\n",
      "Learning Python is fun\n",
      "Learning Python is fun\n",
      "Learning Python is fun\n",
      "Learning Python is fun\n",
      "Learning Python is fun\n",
      "Learning Python is fun\n",
      "Learning Python is fun\n",
      "Learning Python is fun\n",
      "Learning Python is fun\n",
      "Learning Python is fun\n",
      "Learning Python is fun\n",
      "Learning Python is fun\n",
      "Learning Python is fun\n",
      "Learning Python is fun\n",
      "Learning Python is fun\n",
      "Learning Python is fun\n",
      "Learning Python is fun\n",
      "Learning Python is fun\n",
      "Learning Python is fun\n",
      "Learning Python is fun\n",
      "Learning Python is fun\n",
      "Learning Python is fun\n",
      "Learning Python is fun\n",
      "Learning Python is fun\n",
      "Learning Python is fun\n",
      "Learning Python is fun\n",
      "Learning Python is fun\n",
      "Learning Python is fun\n",
      "Learning Python is fun\n",
      "Learning Python is fun\n",
      "Learning Python is fun\n",
      "Learning Python is fun\n",
      "Learning Python is fun\n",
      "Learning Python is fun\n",
      "Learning Python is fun\n",
      "Learning Python is fun\n",
      "Learning Python is fun\n",
      "Learning Python is fun\n",
      "Learning Python is fun\n",
      "Learning Python is fun\n",
      "Learning Python is fun\n",
      "Learning Python is fun\n",
      "Learning Python is fun\n",
      "Learning Python is fun\n",
      "Learning Python is fun\n",
      "Learning Python is fun\n",
      "Learning Python is fun\n",
      "Learning Python is fun\n",
      "Learning Python is fun\n"
     ]
    }
   ],
   "source": [
    "for k in range(1,101):\n",
    "    print('Learning Python is fun')"
   ]
  },
  {
   "cell_type": "code",
   "execution_count": 17,
   "metadata": {},
   "outputs": [
    {
     "name": "stdout",
     "output_type": "stream",
     "text": [
      "1+2+3+...+100= 5050\n"
     ]
    }
   ],
   "source": [
    "total=0\n",
    "for i in range(1,101):\n",
    "    total+=i\n",
    "print('1+2+3+...+100=',total)"
   ]
  },
  {
   "cell_type": "code",
   "execution_count": 18,
   "metadata": {},
   "outputs": [
    {
     "name": "stdout",
     "output_type": "stream",
     "text": [
      "2+4+...+100= 2550\n"
     ]
    }
   ],
   "source": [
    "total=0\n",
    "for i in range(2,101,2):\n",
    "    total+=i\n",
    "print('2+4+...+100=',total)"
   ]
  },
  {
   "cell_type": "code",
   "execution_count": 19,
   "metadata": {},
   "outputs": [
    {
     "name": "stdout",
     "output_type": "stream",
     "text": [
      "The num is 14\n",
      "Total is 105\n"
     ]
    }
   ],
   "source": [
    "total=0\n",
    "num=0\n",
    "while True:\n",
    "    num+=1\n",
    "    total+=num\n",
    "    if total >=100:\n",
    "        break\n",
    "print('The num is',num)\n",
    "print('Total is',total)"
   ]
  },
  {
   "cell_type": "code",
   "execution_count": 20,
   "metadata": {},
   "outputs": [
    {
     "name": "stdout",
     "output_type": "stream",
     "text": [
      "The num is 64\n",
      "Total is 1056\n"
     ]
    }
   ],
   "source": [
    "total=0\n",
    "num=0\n",
    "while True:\n",
    "    num+=2\n",
    "    total+=num\n",
    "    if total >=1000:\n",
    "        break\n",
    "print('The num is',num)\n",
    "print('Total is',total)"
   ]
  },
  {
   "cell_type": "code",
   "execution_count": 21,
   "metadata": {},
   "outputs": [
    {
     "name": "stdout",
     "output_type": "stream",
     "text": [
      "The total is 4000\n"
     ]
    }
   ],
   "source": [
    "total=0\n",
    "num=1\n",
    "while num<=100:\n",
    "    if num %5==0:\n",
    "        num+=1\n",
    "        continue\n",
    "    total+=num\n",
    "    num+=1\n",
    "print('The total is',total)"
   ]
  },
  {
   "cell_type": "code",
   "execution_count": 22,
   "metadata": {},
   "outputs": [
    {
     "name": "stdout",
     "output_type": "stream",
     "text": [
      "The total is 1050\n"
     ]
    }
   ],
   "source": [
    "total=0\n",
    "num=1\n",
    "while num<=100:\n",
    "    num+=1\n",
    "    if num %5!=0:\n",
    "        continue\n",
    "    total+=num\n",
    "print('The total is',total)"
   ]
  },
  {
   "cell_type": "code",
   "execution_count": 23,
   "metadata": {},
   "outputs": [
    {
     "name": "stdout",
     "output_type": "stream",
     "text": [
      "the total is 10\n"
     ]
    }
   ],
   "source": [
    "total=0\n",
    "num=0\n",
    "while num<=100:\n",
    "    num+=1\n",
    "    if num%5==0:\n",
    "        break\n",
    "    total += num\n",
    "print('the total is',total)"
   ]
  },
  {
   "cell_type": "code",
   "execution_count": 24,
   "metadata": {},
   "outputs": [
    {
     "name": "stdout",
     "output_type": "stream",
     "text": [
      "1+3+5+...+99= 2500\n"
     ]
    }
   ],
   "source": [
    "oddtotal=0\n",
    "k=1\n",
    "while k<=100:\n",
    "    oddtotal=oddtotal+k\n",
    "    k=k+2\n",
    "print('1+3+5+...+99=',oddtotal)"
   ]
  },
  {
   "cell_type": "code",
   "execution_count": 26,
   "metadata": {},
   "outputs": [
    {
     "name": "stdout",
     "output_type": "stream",
     "text": [
      "i= 1\n",
      " j= 1\n",
      " j= 2\n",
      " j= 3\n",
      " j= 4\n",
      " j= 5\n",
      " j= 6\n",
      " j= 7\n",
      " j= 8\n",
      " j= 9\n",
      "\n",
      "i= 2\n",
      " j= 1\n",
      " j= 2\n",
      " j= 3\n",
      " j= 4\n",
      " j= 5\n",
      " j= 6\n",
      " j= 7\n",
      " j= 8\n",
      " j= 9\n",
      "\n",
      "i= 3\n",
      " j= 1\n",
      " j= 2\n",
      " j= 3\n",
      " j= 4\n",
      " j= 5\n",
      " j= 6\n",
      " j= 7\n",
      " j= 8\n",
      " j= 9\n",
      "\n",
      "i= 4\n",
      " j= 1\n",
      " j= 2\n",
      " j= 3\n",
      " j= 4\n",
      " j= 5\n",
      " j= 6\n",
      " j= 7\n",
      " j= 8\n",
      " j= 9\n",
      "\n",
      "i= 5\n",
      " j= 1\n",
      " j= 2\n",
      " j= 3\n",
      " j= 4\n",
      " j= 5\n",
      " j= 6\n",
      " j= 7\n",
      " j= 8\n",
      " j= 9\n",
      "\n",
      "i= 6\n",
      " j= 1\n",
      " j= 2\n",
      " j= 3\n",
      " j= 4\n",
      " j= 5\n",
      " j= 6\n",
      " j= 7\n",
      " j= 8\n",
      " j= 9\n",
      "\n",
      "i= 7\n",
      " j= 1\n",
      " j= 2\n",
      " j= 3\n",
      " j= 4\n",
      " j= 5\n",
      " j= 6\n",
      " j= 7\n",
      " j= 8\n",
      " j= 9\n",
      "\n",
      "i= 8\n",
      " j= 1\n",
      " j= 2\n",
      " j= 3\n",
      " j= 4\n",
      " j= 5\n",
      " j= 6\n",
      " j= 7\n",
      " j= 8\n",
      " j= 9\n",
      "\n",
      "i= 9\n",
      " j= 1\n",
      " j= 2\n",
      " j= 3\n",
      " j= 4\n",
      " j= 5\n",
      " j= 6\n",
      " j= 7\n",
      " j= 8\n",
      " j= 9\n",
      "\n"
     ]
    }
   ],
   "source": [
    "for i in range(1,10):\n",
    "    print('i=',i)\n",
    "    for j in range(1,10):\n",
    "        print(' j=',j)\n",
    "    print('')"
   ]
  },
  {
   "cell_type": "code",
   "execution_count": 27,
   "metadata": {},
   "outputs": [
    {
     "name": "stdout",
     "output_type": "stream",
     "text": [
      "10*20=200\n"
     ]
    }
   ],
   "source": [
    "i=10\n",
    "j=20\n",
    "\n",
    "print('%d*%d=%3d'%(i,j,i*j))"
   ]
  },
  {
   "cell_type": "code",
   "execution_count": 28,
   "metadata": {},
   "outputs": [
    {
     "name": "stdout",
     "output_type": "stream",
     "text": [
      "1*1= 1\n",
      "1*2= 2\n",
      "1*3= 3\n",
      "1*4= 4\n",
      "1*5= 5\n",
      "1*6= 6\n",
      "1*7= 7\n",
      "1*8= 8\n",
      "1*9= 9\n",
      "2*1= 2\n",
      "2*2= 4\n",
      "2*3= 6\n",
      "2*4= 8\n",
      "2*5=10\n",
      "2*6=12\n",
      "2*7=14\n",
      "2*8=16\n",
      "2*9=18\n",
      "3*1= 3\n",
      "3*2= 6\n",
      "3*3= 9\n",
      "3*4=12\n",
      "3*5=15\n",
      "3*6=18\n",
      "3*7=21\n",
      "3*8=24\n",
      "3*9=27\n",
      "4*1= 4\n",
      "4*2= 8\n",
      "4*3=12\n",
      "4*4=16\n",
      "4*5=20\n",
      "4*6=24\n",
      "4*7=28\n",
      "4*8=32\n",
      "4*9=36\n",
      "5*1= 5\n",
      "5*2=10\n",
      "5*3=15\n",
      "5*4=20\n",
      "5*5=25\n",
      "5*6=30\n",
      "5*7=35\n",
      "5*8=40\n",
      "5*9=45\n",
      "6*1= 6\n",
      "6*2=12\n",
      "6*3=18\n",
      "6*4=24\n",
      "6*5=30\n",
      "6*6=36\n",
      "6*7=42\n",
      "6*8=48\n",
      "6*9=54\n",
      "7*1= 7\n",
      "7*2=14\n",
      "7*3=21\n",
      "7*4=28\n",
      "7*5=35\n",
      "7*6=42\n",
      "7*7=49\n",
      "7*8=56\n",
      "7*9=63\n",
      "8*1= 8\n",
      "8*2=16\n",
      "8*3=24\n",
      "8*4=32\n",
      "8*5=40\n",
      "8*6=48\n",
      "8*7=56\n",
      "8*8=64\n",
      "8*9=72\n",
      "9*1= 9\n",
      "9*2=18\n",
      "9*3=27\n",
      "9*4=36\n",
      "9*5=45\n",
      "9*6=54\n",
      "9*7=63\n",
      "9*8=72\n",
      "9*9=81\n"
     ]
    }
   ],
   "source": [
    "for i in range(1,10):\n",
    "    for j in range(1,10):\n",
    "        print('%d*%d=%2d'%(i,j,i*j))"
   ]
  },
  {
   "cell_type": "code",
   "execution_count": 29,
   "metadata": {},
   "outputs": [
    {
     "name": "stdout",
     "output_type": "stream",
     "text": [
      "1*1= 11*2= 21*3= 31*4= 41*5= 51*6= 61*7= 71*8= 81*9= 92*1= 22*2= 42*3= 62*4= 82*5=102*6=122*7=142*8=162*9=183*1= 33*2= 63*3= 93*4=123*5=153*6=183*7=213*8=243*9=274*1= 44*2= 84*3=124*4=164*5=204*6=244*7=284*8=324*9=365*1= 55*2=105*3=155*4=205*5=255*6=305*7=355*8=405*9=456*1= 66*2=126*3=186*4=246*5=306*6=366*7=426*8=486*9=547*1= 77*2=147*3=217*4=287*5=357*6=427*7=497*8=567*9=638*1= 88*2=168*3=248*4=328*5=408*6=488*7=568*8=648*9=729*1= 99*2=189*3=279*4=369*5=459*6=549*7=639*8=729*9=81"
     ]
    }
   ],
   "source": [
    "for i in range(1,10):\n",
    "    for j in range(1,10):\n",
    "        print('%d*%d=%2d'%(i,j,i*j),end='')"
   ]
  },
  {
   "cell_type": "code",
   "execution_count": 32,
   "metadata": {},
   "outputs": [
    {
     "name": "stdout",
     "output_type": "stream",
     "text": [
      "1*1= 1  1*2= 2  1*3= 3  1*4= 4  1*5= 5  1*6= 6  1*7= 7  1*8= 8  1*9= 9  \n",
      "2*1= 2  2*2= 4  2*3= 6  2*4= 8  2*5=10  2*6=12  2*7=14  2*8=16  2*9=18  \n",
      "3*1= 3  3*2= 6  3*3= 9  3*4=12  3*5=15  3*6=18  3*7=21  3*8=24  3*9=27  \n",
      "4*1= 4  4*2= 8  4*3=12  4*4=16  4*5=20  4*6=24  4*7=28  4*8=32  4*9=36  \n",
      "5*1= 5  5*2=10  5*3=15  5*4=20  5*5=25  5*6=30  5*7=35  5*8=40  5*9=45  \n",
      "6*1= 6  6*2=12  6*3=18  6*4=24  6*5=30  6*6=36  6*7=42  6*8=48  6*9=54  \n",
      "7*1= 7  7*2=14  7*3=21  7*4=28  7*5=35  7*6=42  7*7=49  7*8=56  7*9=63  \n",
      "8*1= 8  8*2=16  8*3=24  8*4=32  8*5=40  8*6=48  8*7=56  8*8=64  8*9=72  \n",
      "9*1= 9  9*2=18  9*3=27  9*4=36  9*5=45  9*6=54  9*7=63  9*8=72  9*9=81  \n"
     ]
    }
   ],
   "source": [
    "for i in range(1,10):\n",
    "    for j in range(1,10):\n",
    "        print('%d*%d=%2d'%(i,j,i*j),end='  ')\n",
    "    print()"
   ]
  },
  {
   "cell_type": "code",
   "execution_count": 33,
   "metadata": {},
   "outputs": [
    {
     "name": "stdout",
     "output_type": "stream",
     "text": [
      "1*1= 1  2*1= 2  3*1= 3  4*1= 4  5*1= 5  6*1= 6  7*1= 7  8*1= 8  9*1= 9  \n",
      "1*2= 2  2*2= 4  3*2= 6  4*2= 8  5*2=10  6*2=12  7*2=14  8*2=16  9*2=18  \n",
      "1*3= 3  2*3= 6  3*3= 9  4*3=12  5*3=15  6*3=18  7*3=21  8*3=24  9*3=27  \n",
      "1*4= 4  2*4= 8  3*4=12  4*4=16  5*4=20  6*4=24  7*4=28  8*4=32  9*4=36  \n",
      "1*5= 5  2*5=10  3*5=15  4*5=20  5*5=25  6*5=30  7*5=35  8*5=40  9*5=45  \n",
      "1*6= 6  2*6=12  3*6=18  4*6=24  5*6=30  6*6=36  7*6=42  8*6=48  9*6=54  \n",
      "1*7= 7  2*7=14  3*7=21  4*7=28  5*7=35  6*7=42  7*7=49  8*7=56  9*7=63  \n",
      "1*8= 8  2*8=16  3*8=24  4*8=32  5*8=40  6*8=48  7*8=56  8*8=64  9*8=72  \n",
      "1*9= 9  2*9=18  3*9=27  4*9=36  5*9=45  6*9=54  7*9=63  8*9=72  9*9=81  \n"
     ]
    }
   ],
   "source": [
    "for i in range(1,10):\n",
    "    for j in range(1,10):\n",
    "        print('%d*%d=%2d'%(j,i,i*j),end='  ')\n",
    "    print()"
   ]
  },
  {
   "cell_type": "code",
   "execution_count": 34,
   "metadata": {},
   "outputs": [
    {
     "data": {
      "text/plain": [
       "0.5974179823244626"
      ]
     },
     "execution_count": 34,
     "metadata": {},
     "output_type": "execute_result"
    }
   ],
   "source": [
    "import random\n",
    "random.random()"
   ]
  },
  {
   "cell_type": "code",
   "execution_count": 36,
   "metadata": {},
   "outputs": [
    {
     "data": {
      "text/plain": [
       "0.678971411229329"
      ]
     },
     "execution_count": 36,
     "metadata": {},
     "output_type": "execute_result"
    }
   ],
   "source": [
    "random.random()"
   ]
  },
  {
   "cell_type": "code",
   "execution_count": 35,
   "metadata": {},
   "outputs": [
    {
     "data": {
      "text/plain": [
       "35"
      ]
     },
     "execution_count": 35,
     "metadata": {},
     "output_type": "execute_result"
    }
   ],
   "source": [
    "random.randint(1,49)"
   ]
  },
  {
   "cell_type": "code",
   "execution_count": 37,
   "metadata": {},
   "outputs": [
    {
     "data": {
      "text/plain": [
       "36"
      ]
     },
     "execution_count": 37,
     "metadata": {},
     "output_type": "execute_result"
    }
   ],
   "source": [
    "random.randint(1,38)"
   ]
  },
  {
   "cell_type": "code",
   "execution_count": 39,
   "metadata": {},
   "outputs": [
    {
     "name": "stdout",
     "output_type": "stream",
     "text": [
      "6 75 80 14 95 15 88 41 12 62 71 54 51 28 47 67 46 80 34 27 44 46 59 96 92 13 35 25 8 9 63 52 29 99 64 5 66 1 84 92 89 58 3 82 32 75 60 83 37 7 48 57 76 6 25 69 1 13 48 26 83 12 17 53 44 47 83 21 87 91 6 60 76 15 9 51 33 66 40 29 24 3 75 12 66 62 2 10 32 35 52 68 71 92 97 12 8 43 65 74 "
     ]
    }
   ],
   "source": [
    "import random\n",
    "for i in range(1,101):\n",
    "    randomNumber=random.randint(1,100)\n",
    "    print(randomNumber,end=' ')"
   ]
  },
  {
   "cell_type": "code",
   "execution_count": 41,
   "metadata": {},
   "outputs": [
    {
     "name": "stdout",
     "output_type": "stream",
     "text": [
      "21 33 41 58 79 50 35 73 28 46 74 79 82 63 88 24 33 99 72 4 99 7 93 88 21 25 50 40 53 51 12 6 91 25 66 51 51 6 40 82 81 61 43 48 30 56 63 37 73 89 51 60 47 38 64 42 60 30 70 90 37 100 39 19 96 47 81 63 71 76 90 94 13 27 29 9 79 50 48 20 62 48 65 19 42 64 11 31 30 46 65 49 12 33 87 6 52 28 9 52 \n",
      "Even number: 49 \n",
      "Odd number: 51\n"
     ]
    }
   ],
   "source": [
    "import random\n",
    "evenCount=0\n",
    "oddCount=0\n",
    "for i in range(1,101):\n",
    "    randomNumber=random.randint(1,100)\n",
    "    print(randomNumber,end=' ')\n",
    "    if randomNumber%2==0:\n",
    "        evenCount+=1\n",
    "oddCount=100-evenCount\n",
    "\n",
    "print('\\nEven number:',evenCount,'\\nOdd number:',oddCount)"
   ]
  },
  {
   "cell_type": "code",
   "execution_count": 43,
   "metadata": {},
   "outputs": [
    {
     "name": "stdout",
     "output_type": "stream",
     "text": [
      "   38    59    42    54    91    66    79     3    39    68\n",
      "   18    36    53    81    95    51     2    79    39    18\n",
      "   43    87    34    86    72    36    71    42    94    21\n",
      "   17    30    38    61    40    31    47     5    34    24\n",
      "   92    81    59    61     3    16    42    21    58    80\n",
      "   83     5    68    70    75    54    79    70    74    57\n",
      "   74    91    15    60    72    64     3    14     2    26\n",
      "   62    34    91    88    86    19     8    27    24    25\n",
      "   27    11    39    35    63    89    47     2    39    65\n",
      "   94     9    82    29    61    50    70    82    33    75\n",
      "\n",
      "Even number: 49 \n",
      "Odd number: 51\n"
     ]
    }
   ],
   "source": [
    "import random\n",
    "evenCount=0\n",
    "oddCount=0\n",
    "for i in range(1,101):\n",
    "    randomNumber=random.randint(1,100)\n",
    "    if i%10==0:\n",
    "        print('%5d'%(randomNumber))\n",
    "    else:\n",
    "        print('%5d'%(randomNumber),end=' ')\n",
    "    if randomNumber%2==0:\n",
    "        evenCount+=1\n",
    "oddCount=100-evenCount\n",
    "\n",
    "print('\\nEven number:',evenCount,'\\nOdd number:',oddCount)     "
   ]
  },
  {
   "cell_type": "code",
   "execution_count": 1,
   "metadata": {},
   "outputs": [
    {
     "name": "stdout",
     "output_type": "stream",
     "text": [
      "Please input an integer:223\n",
      "223 is prime number\n"
     ]
    }
   ],
   "source": [
    "number=eval(input('Please input an integer:'))\n",
    "divisor=2\n",
    "flag=1\n",
    "while divisor<number:\n",
    "    if number % divisor == 0:\n",
    "        #if true,number is not prime number\n",
    "        flag=0\n",
    "        break\n",
    "    divisor+=1\n",
    "if flag == 0:\n",
    "    print(number,'is not prime number')\n",
    "else:\n",
    "    print(number,'is prime number')"
   ]
  },
  {
   "cell_type": "code",
   "execution_count": 2,
   "metadata": {},
   "outputs": [
    {
     "name": "stdout",
     "output_type": "stream",
     "text": [
      "Please input an integer:220\n",
      "220 is not prime number\n"
     ]
    }
   ],
   "source": [
    "number=eval(input('Please input an integer:'))\n",
    "divisor=2\n",
    "flag=1\n",
    "while divisor<number:\n",
    "    if number % divisor == 0:\n",
    "        #if true,number is not prime number\n",
    "        flag=0\n",
    "        break\n",
    "    divisor+=1\n",
    "if flag == 0:\n",
    "    print(number,'is not prime number')\n",
    "else:\n",
    "    print(number,'is prime number')"
   ]
  },
  {
   "cell_type": "code",
   "execution_count": 3,
   "metadata": {},
   "outputs": [
    {
     "name": "stdout",
     "output_type": "stream",
     "text": [
      "Please input an integer:223\n",
      "223 is prime number\n"
     ]
    }
   ],
   "source": [
    "number=eval(input('Please input an integer:'))\n",
    "divisor=2\n",
    "flag=1\n",
    "while divisor<=number/2:\n",
    "    if number % divisor == 0:\n",
    "        #if true,number is not prime number\n",
    "        flag=0\n",
    "        break\n",
    "    divisor+=1\n",
    "if flag == 0:\n",
    "    print(number,'is not prime number')\n",
    "else:\n",
    "    print(number,'is prime number')"
   ]
  },
  {
   "cell_type": "code",
   "execution_count": 7,
   "metadata": {},
   "outputs": [
    {
     "name": "stdout",
     "output_type": "stream",
     "text": [
      "2 3 5 7 11 13 17 19 23 29 31 37 41 43 47 53 59 61 67 71 73 79 83 89 97 101 103 107 109 113 127 131 137 139 149 151 157 163 167 173 179 181 191 193 197 199 211 223 227 229 233 239 241 251 257 263 269 271 277 281 283 293 307 311 313 317 331 337 347 349 353 359 367 373 379 383 389 397 401 409 419 421 431 433 439 443 449 457 461 463 467 479 487 491 499 503 509 521 523 541 547 557 563 569 571 577 587 593 599 601 607 613 617 619 631 641 643 647 653 659 661 673 677 683 691 701 709 719 727 733 739 743 751 757 761 769 773 787 797 809 811 821 823 827 829 839 853 857 859 863 877 881 883 887 907 911 919 929 937 941 947 953 967 971 977 983 991 997 "
     ]
    }
   ],
   "source": [
    "for number in range(2,1001):\n",
    "    divisor=2\n",
    "    flag=1\n",
    "    while divisor<=number/2:\n",
    "        if number % divisor == 0:\n",
    "            flag=0\n",
    "            break\n",
    "        divisor+=1\n",
    "    if flag==1:\n",
    "        print(number,end=' ')"
   ]
  },
  {
   "cell_type": "code",
   "execution_count": 8,
   "metadata": {
    "scrolled": true
   },
   "outputs": [
    {
     "name": "stdout",
     "output_type": "stream",
     "text": [
      "    2     3     5     7    11    13    17    19    23    29\n",
      "   31    37    41    43    47    53    59    61    67    71\n",
      "   73    79    83    89    97   101   103   107   109   113\n",
      "  127   131   137   139   149   151   157   163   167   173\n",
      "  179   181   191   193   197   199   211   223   227   229\n",
      "  233   239   241   251   257   263   269   271   277   281\n",
      "  283   293   307   311   313   317   331   337   347   349\n",
      "  353   359   367   373   379   383   389   397   401   409\n",
      "  419   421   431   433   439   443   449   457   461   463\n",
      "  467   479   487   491   499   503   509   521   523   541\n",
      "  547   557   563   569   571   577   587   593   599   601\n",
      "  607   613   617   619   631   641   643   647   653   659\n",
      "  661   673   677   683   691   701   709   719   727   733\n",
      "  739   743   751   757   761   769   773   787   797   809\n",
      "  811   821   823   827   829   839   853   857   859   863\n",
      "  877   881   883   887   907   911   919   929   937   941\n",
      "  947   953   967   971   977   983   991   997 "
     ]
    }
   ],
   "source": [
    "count=0\n",
    "for number in range(2,1001):\n",
    "    divisor=2\n",
    "    flag=1\n",
    "    while divisor<=number/2:\n",
    "        if number % divisor == 0:\n",
    "            flag=0\n",
    "            break\n",
    "        divisor+=1\n",
    "    if flag==1:\n",
    "        count+=1\n",
    "        if count%10==0:\n",
    "            print('%5d'%(number))\n",
    "        else:\n",
    "            print('%5d'%(number),end=' ')\n",
    "        "
   ]
  },
  {
   "cell_type": "code",
   "execution_count": 10,
   "metadata": {},
   "outputs": [
    {
     "name": "stdout",
     "output_type": "stream",
     "text": [
      "Please input an integer:125\n",
      "Please input an integer:2525\n",
      "The GCD for 125 and 2525 is 25\n"
     ]
    }
   ],
   "source": [
    "number1=eval(input('Please input an integer:'))\n",
    "number2=eval(input('Please input an integer:'))\n",
    "gcd=1\n",
    "k=2\n",
    "while k <= number1 and k<= number2:\n",
    "    if number1 % k==0 and number2 %k==0:\n",
    "        gcd=k\n",
    "    k+=1\n",
    "print('The GCD for',number1,'and',number2,'is',gcd)"
   ]
  },
  {
   "cell_type": "code",
   "execution_count": 9,
   "metadata": {},
   "outputs": [
    {
     "name": "stdout",
     "output_type": "stream",
     "text": [
      "Please input an numerator1:1\n",
      "Please input an denominator1:2\n",
      "Please input an numerator2:1\n",
      "Please input an denominator2:6\n",
      "The GCD for 8 and 12 is 4\n",
      "1/2+1/6=\n",
      "2/3\n"
     ]
    }
   ],
   "source": [
    "numerator1=eval(input('Please input an numerator1:'))\n",
    "denominator1=eval(input('Please input an denominator1:'))\n",
    "\n",
    "numerator2=eval(input('Please input an numerator2:'))\n",
    "denominator2=eval(input('Please input an denominator2:'))\n",
    "\n",
    "number1=numerator1*denominator2+numerator2*denominator1\n",
    "number2=denominator1*denominator2\n",
    "\n",
    "gcd=1\n",
    "k=2\n",
    "while k <= number1 and k<= number2:\n",
    "    if number1%k==0 and number2%k==0:\n",
    "        gcd=k\n",
    "    k+=1\n",
    "print('The GCD for',number1,'and',number2,'is',gcd)\n",
    "print('%d/%d+%d/%d='%(numerator1,denominator1,numerator2,denominator2))\n",
    "print('%d/%d'%(number1/gcd,number2/gcd))"
   ]
  },
  {
   "cell_type": "code",
   "execution_count": 12,
   "metadata": {},
   "outputs": [
    {
     "name": "stdout",
     "output_type": "stream",
     "text": [
      "8 9 38 41 8 45 "
     ]
    }
   ],
   "source": [
    "import random\n",
    "for i in range(1,7):\n",
    "    k=random.randint(1,49)\n",
    "    print(k,end=' ')"
   ]
  },
  {
   "cell_type": "code",
   "execution_count": 13,
   "metadata": {},
   "outputs": [
    {
     "name": "stdout",
     "output_type": "stream",
     "text": [
      "1050\n"
     ]
    }
   ],
   "source": [
    "fiveMulti =0\n",
    "k=5\n",
    "while k<=100:\n",
    "    fiveMulti+=k\n",
    "    k+=5\n",
    "print(fiveMulti)"
   ]
  },
  {
   "cell_type": "code",
   "execution_count": 15,
   "metadata": {},
   "outputs": [
    {
     "name": "stdout",
     "output_type": "stream",
     "text": [
      "0 1 2 3 4 5 6 7 8 9  \n",
      "2 3 4 5 6 7 8 9 \n",
      "1 3 5 7 9 \n",
      "9 7 5 3 \n"
     ]
    }
   ],
   "source": [
    "for i in range(10):\n",
    "    print(i,end=' ')\n",
    "print('')\n",
    "\n",
    "for i in range(2,10):\n",
    "    print(i,end=' ')\n",
    "print('')\n",
    "\n",
    "for i in range(1,10,2):\n",
    "    print(i,end=' ')\n",
    "print('')\n",
    "\n",
    "for i in range(9,1,-2):\n",
    "    print(i,end=' ')\n",
    "print('')"
   ]
  },
  {
   "cell_type": "code",
   "execution_count": 16,
   "metadata": {},
   "outputs": [
    {
     "name": "stdout",
     "output_type": "stream",
     "text": [
      "  0   1   2   3   4   5   6   7   8   9 \n",
      "  2   3   4   5   6   7   8   9 \n",
      "  1   3   5   7   9 \n",
      "  9   7   5   3 \n"
     ]
    }
   ],
   "source": [
    "for i in range(10):\n",
    "    print('%3d'%(i),end=' ')\n",
    "print('')\n",
    "\n",
    "for i in range(2,10):\n",
    "    print('%3d'%(i),end=' ')\n",
    "print('')\n",
    "\n",
    "for i in range(1,10,2):\n",
    "    print('%3d'%(i),end=' ')\n",
    "print('')\n",
    "\n",
    "for i in range(9,1,-2):\n",
    "    print('%3d'%(i),end=' ')\n",
    "print('')"
   ]
  },
  {
   "cell_type": "code",
   "execution_count": 17,
   "metadata": {},
   "outputs": [
    {
     "name": "stdout",
     "output_type": "stream",
     "text": [
      "1+2+3+...+100=5050\n"
     ]
    }
   ],
   "source": [
    "total=0\n",
    "num=0\n",
    "while True:\n",
    "    num+=1\n",
    "    total += num\n",
    "    if total >= 5050:\n",
    "        break\n",
    "print('1+2+3+...+%d=%d'%(num,total))"
   ]
  },
  {
   "cell_type": "code",
   "execution_count": 18,
   "metadata": {},
   "outputs": [
    {
     "name": "stdout",
     "output_type": "stream",
     "text": [
      "1+3+5+...+99= 2500\n"
     ]
    }
   ],
   "source": [
    "total=0\n",
    "num=1\n",
    "while num<=100:\n",
    "    if num%2==0:\n",
    "        num+=1\n",
    "        continue\n",
    "    total += num\n",
    "    num += 1\n",
    "print('1+3+5+...+99=',total)"
   ]
  },
  {
   "cell_type": "code",
   "execution_count": 1,
   "metadata": {},
   "outputs": [
    {
     "name": "stdout",
     "output_type": "stream",
     "text": [
      "1+3+5+...+99= 2500\n"
     ]
    }
   ],
   "source": [
    "total=0\n",
    "for i in range(1,101):\n",
    "    if i % 2 == 1:\n",
    "        total += i\n",
    "    else:\n",
    "        continue\n",
    "print('1+3+5+...+99=',total)"
   ]
  },
  {
   "cell_type": "code",
   "execution_count": 11,
   "metadata": {},
   "outputs": [
    {
     "name": "stdout",
     "output_type": "stream",
     "text": [
      "* * * * * * * * * * \n",
      "* * * * * * * * * \n",
      "* * * * * * * * \n",
      "* * * * * * * \n",
      "* * * * * * \n",
      "* * * * * \n",
      "* * * * \n",
      "* * * \n",
      "* * \n",
      "* \n"
     ]
    }
   ],
   "source": [
    "for i in range(10):\n",
    "    for j in range(i,10):\n",
    "        print('*',end=' ')\n",
    "    print('')"
   ]
  },
  {
   "cell_type": "code",
   "execution_count": 3,
   "metadata": {},
   "outputs": [
    {
     "name": "stdout",
     "output_type": "stream",
     "text": [
      "\n",
      "* \n",
      "* * \n",
      "* * * \n",
      "* * * * \n",
      "* * * * * \n",
      "* * * * * * \n",
      "* * * * * * * \n",
      "* * * * * * * * \n"
     ]
    }
   ],
   "source": [
    "for i in range(9):\n",
    "    for j in range(i):\n",
    "        print('*',end=' ')\n",
    "    print('')"
   ]
  },
  {
   "cell_type": "code",
   "execution_count": 4,
   "metadata": {},
   "outputs": [
    {
     "name": "stdout",
     "output_type": "stream",
     "text": [
      "total=5150\n"
     ]
    }
   ],
   "source": [
    "total = 0\n",
    "i = 1\n",
    "while i <= 100:\n",
    "    i += 1\n",
    "    total += i\n",
    "print('total=%d'%total)"
   ]
  },
  {
   "cell_type": "code",
   "execution_count": 5,
   "metadata": {},
   "outputs": [
    {
     "name": "stdout",
     "output_type": "stream",
     "text": [
      "total=4950\n"
     ]
    }
   ],
   "source": [
    "total = 0\n",
    "i = 1\n",
    "while i < 100:\n",
    "    total += i\n",
    "    i += 1\n",
    "print('total=%d'%total)"
   ]
  },
  {
   "cell_type": "code",
   "execution_count": 8,
   "metadata": {},
   "outputs": [
    {
     "name": "stdout",
     "output_type": "stream",
     "text": [
      " 1 2 3 4 5 6 7 8\n",
      " 1 2 3 4 5 6 7\n",
      " 1 2 3 4 5 6\n",
      " 1 2 3 4 5\n",
      " 1 2 3 4\n",
      " 1 2 3\n",
      " 1 2\n",
      " 1\n",
      "\n"
     ]
    }
   ],
   "source": [
    "i = 8\n",
    "while i >= 1:\n",
    "    j = 1\n",
    "    while j <= i:\n",
    "        print('%2d'%(j),end = '')\n",
    "        j += 1\n",
    "    print()\n",
    "    i -= 1\n",
    "print()"
   ]
  },
  {
   "cell_type": "code",
   "execution_count": 9,
   "metadata": {},
   "outputs": [
    {
     "name": "stdout",
     "output_type": "stream",
     "text": [
      "total = 0\n"
     ]
    }
   ],
   "source": [
    "total = 0\n",
    "for i in range(100,1,2):\n",
    "    total += i\n",
    "print('total = %d'%(total))"
   ]
  },
  {
   "cell_type": "code",
   "execution_count": 10,
   "metadata": {},
   "outputs": [
    {
     "name": "stdout",
     "output_type": "stream",
     "text": [
      "total = 2550\n"
     ]
    }
   ],
   "source": [
    "total = 0\n",
    "for i in range(100,1,-2):\n",
    "    total += i\n",
    "print('total = %d'%(total))"
   ]
  },
  {
   "cell_type": "code",
   "execution_count": 11,
   "metadata": {},
   "outputs": [
    {
     "name": "stdout",
     "output_type": "stream",
     "text": [
      " 1 2 3 4 5 6\n",
      " 1 2 3 4 5\n",
      " 1 2 3 4\n",
      " 1 2 3\n",
      " 1 2\n",
      " 1\n",
      "\n"
     ]
    }
   ],
   "source": [
    "i = 6\n",
    "while i >= 1:\n",
    "    j = 1\n",
    "    while j <= i:\n",
    "        print('%2d'%(j),end = '')\n",
    "        j += 1\n",
    "    print()\n",
    "    i -= 1\n",
    "print()"
   ]
  },
  {
   "cell_type": "code",
   "execution_count": 2,
   "metadata": {},
   "outputs": [
    {
     "name": "stdout",
     "output_type": "stream",
     "text": [
      "3+6+9+...+99= 1683\n"
     ]
    }
   ],
   "source": [
    "total=0\n",
    "for i in range(1,100):\n",
    "    if i % 3 == 0:\n",
    "        total += i\n",
    "    else:\n",
    "        continue\n",
    "print('3+6+9+...+99=',total)"
   ]
  },
  {
   "cell_type": "code",
   "execution_count": 9,
   "metadata": {},
   "outputs": [
    {
     "name": "stdout",
     "output_type": "stream",
     "text": [
      "31 31 15 29 22 23 5\n"
     ]
    }
   ],
   "source": [
    "import random\n",
    "for i in range(1,7):\n",
    "    k=random.randint(1,38)\n",
    "    print(k,end=' ')\n",
    "for j in range(1):\n",
    "    s=random.randint(1,8)\n",
    "    print(s)"
   ]
  },
  {
   "cell_type": "code",
   "execution_count": 12,
   "metadata": {},
   "outputs": [
    {
     "name": "stdout",
     "output_type": "stream",
     "text": [
      "* * * * * * * * \n",
      "* * * * * * * \n",
      "* * * * * * \n",
      "* * * * * \n",
      "* * * * \n",
      "* * * \n",
      "* * \n",
      "* \n"
     ]
    }
   ],
   "source": [
    "for i in range(8):\n",
    "    for j in range(i,8):\n",
    "        print('*',end=' ')\n",
    "    print('')"
   ]
  },
  {
   "cell_type": "code",
   "execution_count": 14,
   "metadata": {},
   "outputs": [
    {
     "name": "stdout",
     "output_type": "stream",
     "text": [
      "\n",
      "* \n",
      "* * \n",
      "* * * \n",
      "* * * * \n",
      "* * * * * \n",
      "* * * * * * \n",
      "* * * * * * * \n",
      "* * * * * * * * \n"
     ]
    }
   ],
   "source": [
    "for i in range(9):\n",
    "    for j in range(i):\n",
    "        print('*',end=' ')\n",
    "    print('')"
   ]
  },
  {
   "cell_type": "code",
   "execution_count": null,
   "metadata": {},
   "outputs": [],
   "source": []
  }
 ],
 "metadata": {
  "kernelspec": {
   "display_name": "Python 3",
   "language": "python",
   "name": "python3"
  },
  "language_info": {
   "codemirror_mode": {
    "name": "ipython",
    "version": 3
   },
   "file_extension": ".py",
   "mimetype": "text/x-python",
   "name": "python",
   "nbconvert_exporter": "python",
   "pygments_lexer": "ipython3",
   "version": "3.8.3"
  }
 },
 "nbformat": 4,
 "nbformat_minor": 4
}
